{
 "cells": [
  {
   "cell_type": "markdown",
   "metadata": {},
   "source": [
    "# TP FINAL Debandi"
   ]
  },
  {
   "cell_type": "markdown",
   "metadata": {},
   "source": [
    "## Carga de datos y preparación del dataset\n",
    "\n",
    "En este trabajo utilizo los datos de Covid-19 junto con un dataset complementario de información sobre cuando cada persona es migrante o no.\n",
    "\n",
    "Este notebook levanta tres archivos: \n",
    "casosCovid: es un archivo de casos de marzo 2020 hasta mayo 2021. Este archivo fue bajado desde el sitio de datos abiertos del Ministerio de Salud de Argentina\n",
    "http://datos.salud.gob.ar/dataset?groups=covid-19\n",
    "\n",
    "migrantes2020 y migrantes2021: ambos archivos corresponden a dos pedidos de acceso a la información publica realizados en 2021. Este archivo contempla el ID-caso y algunos campos para dar cuenta de la nacionalidad y el país de nacimiento de cada persona.\n",
    "\n",
    "La cantidad de registros del archivo de casos es dee 15.071.716 \n",
    "Dado el volumen y el tiempo que llevaba este procesamiento de manera local, para este trabajo se realizó una muesta del 10%.\n",
    "\n",
    "\n",
    "Esta notebook levanta los archivos de casos y toma una muestra del 10%., Hace un join con los datos de migrantes y se seleccionan las variables de interés.\n",
    "Luego se guardan los datos en formato parquet. En la notebook de análisis se toman directamente estos datos."
   ]
  },
  {
   "cell_type": "code",
   "execution_count": 1,
   "metadata": {},
   "outputs": [],
   "source": [
    "import findspark\n",
    "findspark.init()"
   ]
  },
  {
   "cell_type": "code",
   "execution_count": 2,
   "metadata": {},
   "outputs": [],
   "source": [
    "from pyspark.sql import SparkSession\n",
    "spark = (\n",
    "    SparkSession.builder\n",
    "    .appName(\"pyspark-intro\")\n",
    "    .config(\"spark.driver.memory\", \"512m\")\n",
    "    .config(\"spark.driver.cores\", \"1\")\n",
    "    .config(\"spark.executor.memory\", \"512m\")\n",
    "    .config(\"spark.executor.cores\", \"1\")\n",
    "    .config(\"spark.sql.shuffle.partitions\", \"2\")\n",
    "    .getOrCreate()\n",
    ")"
   ]
  },
  {
   "cell_type": "code",
   "execution_count": null,
   "metadata": {},
   "outputs": [],
   "source": []
  },
  {
   "cell_type": "markdown",
   "metadata": {},
   "source": [
    "# Levanto la base de casos"
   ]
  },
  {
   "cell_type": "markdown",
   "metadata": {},
   "source": [
    "Levanto el dataset de casos con los tipos de cada columna para poder trabajarlos"
   ]
  },
  {
   "cell_type": "code",
   "execution_count": 3,
   "metadata": {},
   "outputs": [],
   "source": [
    "#especifico el esquema para poder definir los tipos\n",
    "\n",
    "##no se pudo utilizar este esquema, traia un error al utilizarlo en el que el parquet se guardaba vacío posteriormente.\n",
    "\n",
    "from pyspark.sql.types import *\n",
    "\n",
    "schema = (StructType()\n",
    "          .add(\"id_evento_caso\", IntegerType())\n",
    "          .add(\"sexo\", StringType())\n",
    "          .add(\"edad\", IntegerType())\n",
    "          .add(\"edad_años_meses\", IntegerType())\n",
    "          .add(\"residencia_pais_nombre\", StringType())\n",
    "          .add(\"residencia_provincia_nombre\", StringType())\n",
    "          .add(\"residencia_departamento_nombre\", StringType())\n",
    "          .add(\"carga_provincia_nombre\", StringType())\n",
    "          .add(\"fecha_inicio_sintomas\", DateType())\n",
    "\n",
    "          .add(\"fecha_apertura\", DateType())\n",
    "          .add(\"sepi_apertura\", IntegerType())\n",
    "          .add(\"fecha_internacion\", DateType())\n",
    "          .add(\"cuidado_intensivo\", StringType())\n",
    "          .add(\"fecha_cui_intensivo\", DateType())\n",
    "          .add(\"fallecido\", StringType())\n",
    "          .add(\"fecha_fallecimiento\", DateType())\n",
    "          \n",
    "          .add(\"asistencia_respiratoria_mecanica\", DateType())\n",
    "          .add(\"carga_provincia_id\", IntegerType())\n",
    "          .add(\"origen_financiamiento\", StringType())\n",
    "          .add(\"clasificacion\", StringType())\n",
    "          .add(\"clasificacion_resumen\", StringType())\n",
    "          .add(\"residencia_provincia_id\", DateType())\n",
    "          .add(\"fecha_diagnostico\", DateType())\n",
    "          .add(\"residencia_departamento_id\", IntegerType())\n",
    "          .add(\"ultima_actualizacion\", IntegerType())\n",
    "\n",
    "         )"
   ]
  },
  {
   "cell_type": "code",
   "execution_count": 25,
   "metadata": {},
   "outputs": [],
   "source": [
    "#levanto los casos\n",
    "dfcasosCompleto = spark.read.csv(\"/dataset/covid/Covid19Casos.csv\", header=True,inferSchema = True)\n",
    "\n",
    "#dfcasosCompleto = spark.read.csv(\"/dataset/covid/Covid19Casos.csv\", \n",
    "#                        schema=schema, header=True)\n",
    "\n"
   ]
  },
  {
   "cell_type": "code",
   "execution_count": 28,
   "metadata": {},
   "outputs": [
    {
     "name": "stdout",
     "output_type": "stream",
     "text": [
      "root\n",
      " |-- id_evento_caso: integer (nullable = true)\n",
      " |-- sexo: string (nullable = true)\n",
      " |-- edad: integer (nullable = true)\n",
      " |-- edad_años_meses: string (nullable = true)\n",
      " |-- residencia_pais_nombre: string (nullable = true)\n",
      " |-- residencia_provincia_nombre: string (nullable = true)\n",
      " |-- residencia_departamento_nombre: string (nullable = true)\n",
      " |-- carga_provincia_nombre: string (nullable = true)\n",
      " |-- fecha_inicio_sintomas: timestamp (nullable = true)\n",
      " |-- fecha_apertura: timestamp (nullable = true)\n",
      " |-- sepi_apertura: integer (nullable = true)\n",
      " |-- fecha_internacion: timestamp (nullable = true)\n",
      " |-- cuidado_intensivo: string (nullable = true)\n",
      " |-- fecha_cui_intensivo: timestamp (nullable = true)\n",
      " |-- fallecido: string (nullable = true)\n",
      " |-- fecha_fallecimiento: timestamp (nullable = true)\n",
      " |-- asistencia_respiratoria_mecanica: string (nullable = true)\n",
      " |-- carga_provincia_id: integer (nullable = true)\n",
      " |-- origen_financiamiento: string (nullable = true)\n",
      " |-- clasificacion: string (nullable = true)\n",
      " |-- clasificacion_resumen: string (nullable = true)\n",
      " |-- residencia_provincia_id: integer (nullable = true)\n",
      " |-- fecha_diagnostico: timestamp (nullable = true)\n",
      " |-- residencia_departamento_id: integer (nullable = true)\n",
      " |-- ultima_actualizacion: timestamp (nullable = true)\n",
      "\n"
     ]
    }
   ],
   "source": [
    "dfcasosCompleto.printSchema()"
   ]
  },
  {
   "cell_type": "code",
   "execution_count": 27,
   "metadata": {},
   "outputs": [
    {
     "name": "stdout",
     "output_type": "stream",
     "text": [
      "+--------------+----+----+---------------+----------------------+---------------------------+------------------------------+----------------------+---------------------+-------------------+-------------+-----------------+-----------------+-------------------+---------+-------------------+--------------------------------+------------------+---------------------+---------------+---------------------+-----------------------+-------------------+--------------------------+--------------------+\n",
      "|id_evento_caso|sexo|edad|edad_años_meses|residencia_pais_nombre|residencia_provincia_nombre|residencia_departamento_nombre|carga_provincia_nombre|fecha_inicio_sintomas|     fecha_apertura|sepi_apertura|fecha_internacion|cuidado_intensivo|fecha_cui_intensivo|fallecido|fecha_fallecimiento|asistencia_respiratoria_mecanica|carga_provincia_id|origen_financiamiento|  clasificacion|clasificacion_resumen|residencia_provincia_id|  fecha_diagnostico|residencia_departamento_id|ultima_actualizacion|\n",
      "+--------------+----+----+---------------+----------------------+---------------------------+------------------------------+----------------------+---------------------+-------------------+-------------+-----------------+-----------------+-------------------+---------+-------------------+--------------------------------+------------------+---------------------+---------------+---------------------+-----------------------+-------------------+--------------------------+--------------------+\n",
      "|       1000000|   M|  54|           Años|             Argentina|                       CABA|               SIN ESPECIFICAR|          Buenos Aires|                 null|2020-06-01 00:00:00|           23|             null|               NO|               null|       NO|               null|                              NO|                 6|              Privado|Caso Descartado|           Descartado|                      2|2020-06-09 00:00:00|                         0| 2021-07-17 00:00:00|\n",
      "|      10000000|   F|  52|           Años|             Argentina|                       CABA|               SIN ESPECIFICAR|                  CABA|                 null|2021-04-08 00:00:00|           14|             null|               NO|               null|       NO|               null|                              NO|                 2|              Público|Caso Descartado|           Descartado|                      2|2021-04-08 00:00:00|                         0| 2021-07-17 00:00:00|\n",
      "+--------------+----+----+---------------+----------------------+---------------------------+------------------------------+----------------------+---------------------+-------------------+-------------+-----------------+-----------------+-------------------+---------+-------------------+--------------------------------+------------------+---------------------+---------------+---------------------+-----------------------+-------------------+--------------------------+--------------------+\n",
      "only showing top 2 rows\n",
      "\n"
     ]
    }
   ],
   "source": [
    "\n",
    "dfcasosCompleto.show(2)\n"
   ]
  },
  {
   "cell_type": "code",
   "execution_count": 29,
   "metadata": {},
   "outputs": [
    {
     "data": {
      "text/plain": [
       "15071716"
      ]
     },
     "execution_count": 29,
     "metadata": {},
     "output_type": "execute_result"
    }
   ],
   "source": [
    "dfcasosCompleto.count()"
   ]
  },
  {
   "cell_type": "markdown",
   "metadata": {},
   "source": [
    "Hay un total de 15.071.716 casos."
   ]
  },
  {
   "cell_type": "markdown",
   "metadata": {},
   "source": [
    "Cambio los tipos de las columnas. NO pude importarlo con el schema. Me trajo multiples errores"
   ]
  },
  {
   "cell_type": "code",
   "execution_count": 30,
   "metadata": {},
   "outputs": [],
   "source": [
    "#Randomly sample 10% of the data without replacement\n",
    "dfcasos = dfcasosCompleto.sample(False, 0.10, seed=7)"
   ]
  },
  {
   "cell_type": "code",
   "execution_count": 31,
   "metadata": {},
   "outputs": [
    {
     "data": {
      "text/plain": [
       "1507618"
      ]
     },
     "execution_count": 31,
     "metadata": {},
     "output_type": "execute_result"
    }
   ],
   "source": [
    "dfcasos.count()"
   ]
  },
  {
   "cell_type": "markdown",
   "metadata": {},
   "source": [
    "Cantidad de casos luego del sampling del 10%: 1.507.618"
   ]
  },
  {
   "cell_type": "code",
   "execution_count": 32,
   "metadata": {},
   "outputs": [],
   "source": [
    "#dfTemp2.write.parquet(\"/dataset/parquet/covidcasos-confirmados.parquet\") "
   ]
  },
  {
   "cell_type": "markdown",
   "metadata": {},
   "source": [
    "# levanto el dataset de migrantes\n",
    "\n",
    "Voy a levantar ahora los dos archivos de migrantes, unirlos. Estos archivos corresponden a dos pedidos de información distintos."
   ]
  },
  {
   "cell_type": "code",
   "execution_count": 33,
   "metadata": {},
   "outputs": [],
   "source": [
    "schema_mig = (StructType()\n",
    "          .add(\"id_caso\", IntegerType())\n",
    "          .add(\"nacionalidad\", StringType())\n",
    "          .add(\"pais_nacimiento\", StringType())\n",
    "          .add(\"tipo_doc\", StringType())\n",
    "          .add(\"nro_doc\", IntegerType())\n",
    "          .add(\"doc_argentino\", IntegerType())\n",
    "          .add(\"base\", IntegerType())\n",
    "         )"
   ]
  },
  {
   "cell_type": "code",
   "execution_count": 34,
   "metadata": {},
   "outputs": [],
   "source": [
    "#dfmig1 = spark.read.option(\"delimiter\", \";\").csv(\"/dataset/covid/migrantes2020.csv\", header=True)\n"
   ]
  },
  {
   "cell_type": "code",
   "execution_count": 35,
   "metadata": {},
   "outputs": [],
   "source": [
    "dfmig1 = (spark.read.option(\"delimiter\", \";\").csv(\"/dataset/covid/migrantes2020.csv\", \n",
    "                         schema=schema_mig, header=True, \n",
    "                         ignoreLeadingWhiteSpace=True, \n",
    "                         ignoreTrailingWhiteSpace=True))\n"
   ]
  },
  {
   "cell_type": "code",
   "execution_count": 36,
   "metadata": {},
   "outputs": [],
   "source": [
    "#dfmig1.show()"
   ]
  },
  {
   "cell_type": "code",
   "execution_count": 37,
   "metadata": {},
   "outputs": [],
   "source": [
    "dfmig2 = (spark.read.option(\"delimiter\", \";\").csv(\"/dataset/covid/migrantes2021.csv\", \n",
    "                         schema=schema_mig, header=True, \n",
    "                         ignoreLeadingWhiteSpace=True, \n",
    "                         ignoreTrailingWhiteSpace=True))"
   ]
  },
  {
   "cell_type": "code",
   "execution_count": 38,
   "metadata": {},
   "outputs": [
    {
     "name": "stdout",
     "output_type": "stream",
     "text": [
      "root\n",
      " |-- id_caso: integer (nullable = true)\n",
      " |-- nacionalidad: string (nullable = true)\n",
      " |-- pais_nacimiento: string (nullable = true)\n",
      " |-- tipo_doc: string (nullable = true)\n",
      " |-- nro_doc: integer (nullable = true)\n",
      " |-- doc_argentino: integer (nullable = true)\n",
      " |-- base: integer (nullable = true)\n",
      "\n"
     ]
    }
   ],
   "source": [
    "dfmig2.printSchema()"
   ]
  },
  {
   "cell_type": "code",
   "execution_count": 39,
   "metadata": {},
   "outputs": [],
   "source": [
    "dfmig= dfmig1.union(dfmig2)\n",
    "\n",
    "# To remove the duplicates:\n",
    "\n",
    "#result = result.dropDuplicates()\n"
   ]
  },
  {
   "cell_type": "code",
   "execution_count": 40,
   "metadata": {},
   "outputs": [
    {
     "name": "stdout",
     "output_type": "stream",
     "text": [
      "root\n",
      " |-- id_caso: integer (nullable = true)\n",
      " |-- nacionalidad: string (nullable = true)\n",
      " |-- pais_nacimiento: string (nullable = true)\n",
      " |-- tipo_doc: string (nullable = true)\n",
      " |-- nro_doc: integer (nullable = true)\n",
      " |-- doc_argentino: integer (nullable = true)\n",
      " |-- base: integer (nullable = true)\n",
      "\n"
     ]
    }
   ],
   "source": [
    "dfmig.printSchema()"
   ]
  },
  {
   "cell_type": "code",
   "execution_count": 41,
   "metadata": {},
   "outputs": [
    {
     "data": {
      "text/plain": [
       "11437754"
      ]
     },
     "execution_count": 41,
     "metadata": {},
     "output_type": "execute_result"
    }
   ],
   "source": [
    "dfmig.count()"
   ]
  },
  {
   "cell_type": "markdown",
   "metadata": {},
   "source": [
    "La cantidad de registros de la union de los archivos de migrantes es de 11437754"
   ]
  },
  {
   "cell_type": "markdown",
   "metadata": {},
   "source": [
    "## Creación del dataset final\n",
    "\n",
    "Se hace un join entre ambos dataframes y se seleccionan las variables de interés"
   ]
  },
  {
   "cell_type": "code",
   "execution_count": 42,
   "metadata": {},
   "outputs": [],
   "source": [
    "##Creo las dos vistas para poder hacer una consulta sql\n",
    "dfmig.createOrReplaceTempView(\"dfmig\")\n",
    "dfcasos.createOrReplaceTempView(\"dfcasos\")\n",
    "\n",
    "##realizo el join entre ambos por id-caso. Hago left join para quedarme con todos los casos aun cuando no tienen dato de migrante\n",
    "dfTempCasos= spark.sql(\"\"\"\n",
    "    SELECT id_evento_caso,sexo, edad,\n",
    "    fecha_inicio_sintomas,fecha_apertura,fecha_diagnostico,\n",
    "    sepi_apertura,origen_financiamiento,\n",
    "    residencia_provincia_id,residencia_departamento_id,\n",
    "    fecha_internacion,cuidado_intensivo,fallecido,\n",
    "    pais_nacimiento\n",
    "    FROM dfcasos LEFT JOIN dfmig on dfcasos.id_evento_caso=dfmig.id_caso\n",
    "    WHERE clasificacion_resumen='Confirmado'\n",
    "    \"\"\")\n"
   ]
  },
  {
   "cell_type": "code",
   "execution_count": 43,
   "metadata": {},
   "outputs": [
    {
     "name": "stdout",
     "output_type": "stream",
     "text": [
      "+--------------+----+----+---------------------+-------------------+-------------------+-------------+---------------------+-----------------------+--------------------------+-------------------+-----------------+---------+---------------+\n",
      "|id_evento_caso|sexo|edad|fecha_inicio_sintomas|     fecha_apertura|  fecha_diagnostico|sepi_apertura|origen_financiamiento|residencia_provincia_id|residencia_departamento_id|  fecha_internacion|cuidado_intensivo|fallecido|pais_nacimiento|\n",
      "+--------------+----+----+---------------------+-------------------+-------------------+-------------+---------------------+-----------------------+--------------------------+-------------------+-----------------+---------+---------------+\n",
      "|        740861|   F|  75|  2020-03-02 00:00:00|2020-03-07 00:00:00|2020-03-09 00:00:00|           10|              Público|                     22|                       140|               null|               NO|       NO|      Argentina|\n",
      "|        744751|   M|  67|  2020-03-08 00:00:00|2020-03-10 00:00:00|2020-03-11 00:00:00|           11|              Privado|                      2|                        14|2020-03-09 00:00:00|               NO|       NO|      Argentina|\n",
      "|        748647|   M|  25|  2020-03-07 00:00:00|2020-03-12 00:00:00|2020-03-15 00:00:00|           11|              Privado|                      2|                         1|2020-03-11 00:00:00|               NO|       NO|      Argentina|\n",
      "|        749791|   F|  21|  2020-03-08 00:00:00|2020-03-13 00:00:00|2020-03-18 00:00:00|           11|              Privado|                      2|                         0|2020-03-13 00:00:00|               NO|       NO|      Argentina|\n",
      "|        750884|   F|  29|  2020-03-13 00:00:00|2020-03-15 00:00:00|2020-03-17 00:00:00|           12|              Privado|                      6|                       805|2020-03-14 00:00:00|               NO|       NO|      Argentina|\n",
      "|        751135|   F|  24|  2020-03-13 00:00:00|2020-03-15 00:00:00|2020-03-18 00:00:00|           12|              Privado|                      2|                        14|               null|               NO|       NO|      Argentina|\n",
      "|        752993|   M|  37|  2020-03-15 00:00:00|2020-03-16 00:00:00|2020-03-20 00:00:00|           12|              Público|                     58|                        35|2020-03-16 00:00:00|               NO|       NO|      Argentina|\n",
      "|        754103|   M|  29|  2020-03-12 00:00:00|2020-03-17 00:00:00|2020-11-25 00:00:00|           12|              Público|                     74|                        56|2020-03-17 00:00:00|               NO|       NO|      Argentina|\n",
      "|        755541|   M|  78|  2020-03-14 00:00:00|2020-03-17 00:00:00|2020-03-20 00:00:00|           12|              Privado|                      2|                        14|2020-03-17 00:00:00|               NO|       NO|      Argentina|\n",
      "|        755802|   M|  34|  2020-03-14 00:00:00|2020-03-17 00:00:00|2020-03-20 00:00:00|           12|              Público|                     14|                        14|               null|               NO|       NO|      Argentina|\n",
      "|        756541|   F|   4|  2020-03-16 00:00:00|2020-03-18 00:00:00|2020-03-21 00:00:00|           12|              Público|                     50|                        70|2020-03-17 00:00:00|               NO|       NO|     *sin dato*|\n",
      "|        756815|   M|  58|  2020-03-13 00:00:00|2020-03-18 00:00:00|2021-01-18 00:00:00|           12|              Privado|                      2|                         0|2020-03-17 00:00:00|               NO|       NO|      Argentina|\n",
      "|        757343|   F|  57|  2020-03-14 00:00:00|2020-03-18 00:00:00|2020-03-20 00:00:00|           12|              Privado|                      6|                       805|2020-03-18 00:00:00|               NO|       NO|      Argentina|\n",
      "|        759062|   M|  35|  2020-03-17 00:00:00|2020-03-19 00:00:00|2020-03-22 00:00:00|           12|              Público|                     90|                        14|2020-03-17 00:00:00|               NO|       NO|      Argentina|\n",
      "|        759797|   F|  29|  2020-03-16 00:00:00|2020-03-19 00:00:00|2020-03-21 00:00:00|           12|              Privado|                      6|                       427|2020-03-17 00:00:00|               NO|       NO|      Argentina|\n",
      "|        759857|   M|  53|  2020-03-17 00:00:00|2020-03-19 00:00:00|2020-03-21 00:00:00|           12|              Privado|                      2|                         0|               null|               NO|       NO|      Argentina|\n",
      "|        759917|   M|  55|  2020-03-18 00:00:00|2020-03-19 00:00:00|2020-03-23 00:00:00|           12|              Público|                      6|                       420|2020-03-18 00:00:00|               NO|       NO|      Argentina|\n",
      "|        760728|   M|  36|  2020-03-17 00:00:00|2020-03-20 00:00:00|2020-03-26 00:00:00|           12|              Privado|                      2|                         0|2020-03-17 00:00:00|               SI|       NO|      Argentina|\n",
      "|        762108|   M|  22|  2020-03-11 00:00:00|2020-03-20 00:00:00|2020-03-24 00:00:00|           12|              Público|                     14|                        21|               null|               NO|       NO|         EE.UU.|\n",
      "|        762517|   M|  60|  2020-03-15 00:00:00|2020-03-20 00:00:00|2020-03-24 00:00:00|           12|              Privado|                      6|                       756|2020-03-18 00:00:00|               NO|       NO|      Argentina|\n",
      "+--------------+----+----+---------------------+-------------------+-------------------+-------------+---------------------+-----------------------+--------------------------+-------------------+-----------------+---------+---------------+\n",
      "only showing top 20 rows\n",
      "\n"
     ]
    }
   ],
   "source": [
    "dfTempCasos.show()"
   ]
  },
  {
   "cell_type": "code",
   "execution_count": null,
   "metadata": {},
   "outputs": [],
   "source": [
    "#dfmig.count()\n",
    "#vuelvo a chequear la distribución de fallecido\n",
    "dfTempCasos.groupBy('fallecido').count().orderBy('count').show()"
   ]
  },
  {
   "cell_type": "code",
   "execution_count": 45,
   "metadata": {},
   "outputs": [
    {
     "name": "stdout",
     "output_type": "stream",
     "text": [
      "root\n",
      " |-- id_evento_caso: integer (nullable = true)\n",
      " |-- sexo: string (nullable = true)\n",
      " |-- edad: integer (nullable = true)\n",
      " |-- fecha_inicio_sintomas: timestamp (nullable = true)\n",
      " |-- fecha_apertura: timestamp (nullable = true)\n",
      " |-- fecha_diagnostico: timestamp (nullable = true)\n",
      " |-- sepi_apertura: integer (nullable = true)\n",
      " |-- origen_financiamiento: string (nullable = true)\n",
      " |-- residencia_provincia_id: integer (nullable = true)\n",
      " |-- residencia_departamento_id: integer (nullable = true)\n",
      " |-- fecha_internacion: timestamp (nullable = true)\n",
      " |-- cuidado_intensivo: string (nullable = true)\n",
      " |-- fallecido: string (nullable = true)\n",
      " |-- pais_nacimiento: string (nullable = true)\n",
      "\n"
     ]
    }
   ],
   "source": [
    "dfTempCasos.printSchema()"
   ]
  },
  {
   "cell_type": "code",
   "execution_count": 46,
   "metadata": {},
   "outputs": [
    {
     "data": {
      "text/plain": [
       "474572"
      ]
     },
     "execution_count": 46,
     "metadata": {},
     "output_type": "execute_result"
    }
   ],
   "source": [
    "dfTempCasos.count()"
   ]
  },
  {
   "cell_type": "markdown",
   "metadata": {},
   "source": [
    "Al hacer un LEFT JOIN  y filtrar por confirmados nos quedamos con 474.572 casos"
   ]
  },
  {
   "cell_type": "markdown",
   "metadata": {},
   "source": [
    "## Creación archivo parquet"
   ]
  },
  {
   "cell_type": "code",
   "execution_count": 48,
   "metadata": {},
   "outputs": [],
   "source": [
    "dfTempCasos.write.parquet(\"/dataset/parquetv4/covidmigrantes.parquet\") "
   ]
  },
  {
   "cell_type": "code",
   "execution_count": null,
   "metadata": {},
   "outputs": [],
   "source": []
  }
 ],
 "metadata": {
  "kernelspec": {
   "display_name": "Python 3",
   "language": "python",
   "name": "python3"
  },
  "language_info": {
   "codemirror_mode": {
    "name": "ipython",
    "version": 3
   },
   "file_extension": ".py",
   "mimetype": "text/x-python",
   "name": "python",
   "nbconvert_exporter": "python",
   "pygments_lexer": "ipython3",
   "version": "3.7.3"
  }
 },
 "nbformat": 4,
 "nbformat_minor": 4
}
