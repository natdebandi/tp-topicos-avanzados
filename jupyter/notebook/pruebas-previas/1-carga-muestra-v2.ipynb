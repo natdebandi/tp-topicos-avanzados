{
 "cells": [
  {
   "cell_type": "markdown",
   "metadata": {},
   "source": [
    "# TP FINAL Debandi"
   ]
  },
  {
   "cell_type": "markdown",
   "metadata": {},
   "source": [
    "## Carga de datos y preparación del dataset\n",
    "\n",
    "En este trabajo utilizo los datos de Covid-19 junto con un dataset complementario de información sobre cuando cada persona es migrante o no.\n",
    "\n",
    "Este notebook levanta tres archivos: \n",
    "casosCovid: es un archivo de casos de marzo 2020 hasta mayo 2021. Este archivo fue bajado desde el sitio de datos abiertos del Ministerio de Salud de Argentina\n",
    "http://datos.salud.gob.ar/dataset?groups=covid-19\n",
    "\n",
    "migrantes2020 y migrantes2021: ambos archivos corresponden a dos pedidos de acceso a la información publica realizados en 2021. Este archivo contempla el ID-caso y algunos campos para dar cuenta de la nacionalidad y el país de nacimiento de cada persona.\n",
    "\n",
    "La cantidad de registros del archivo de casos es dee 15.071.716 \n",
    "Dado el volumen y el tiempo que llevaba este procesamiento de manera local, para este trabajo se realizó una muesta del 10%.\n",
    "\n",
    "\n",
    "Esta notebook levanta los archivos de casos y toma una muestra del 10%., Hace un join con los datos de migrantes y se seleccionan las variables de interés.\n",
    "Luego se guardan los datos en formato parquet. En la notebook de análisis se toman directamente estos datos."
   ]
  },
  {
   "cell_type": "code",
   "execution_count": 1,
   "metadata": {},
   "outputs": [],
   "source": [
    "import findspark\n",
    "findspark.init()"
   ]
  },
  {
   "cell_type": "code",
   "execution_count": 2,
   "metadata": {},
   "outputs": [],
   "source": [
    "from pyspark.sql import SparkSession\n",
    "spark = (\n",
    "    SparkSession.builder\n",
    "    .appName(\"pyspark-intro\")\n",
    "    .config(\"spark.driver.memory\", \"512m\")\n",
    "    .config(\"spark.driver.cores\", \"1\")\n",
    "    .config(\"spark.executor.memory\", \"512m\")\n",
    "    .config(\"spark.executor.cores\", \"1\")\n",
    "    .config(\"spark.sql.shuffle.partitions\", \"2\")\n",
    "    .getOrCreate()\n",
    ")"
   ]
  },
  {
   "cell_type": "markdown",
   "metadata": {},
   "source": [
    "# Levanto los datos y los exploro"
   ]
  },
  {
   "cell_type": "markdown",
   "metadata": {},
   "source": [
    "Levanto el dataset de casos con los tipos de cada columna para poder trabajarlos"
   ]
  },
  {
   "cell_type": "code",
   "execution_count": 3,
   "metadata": {},
   "outputs": [],
   "source": [
    "#especifico el esquema para poder definir los tipos\n",
    "from pyspark.sql.types import *\n",
    "\n",
    "schema = (StructType()\n",
    "          .add(\"id_evento_caso\", IntegerType())\n",
    "          .add(\"sexo\", StringType())\n",
    "          .add(\"edad\", IntegerType())\n",
    "          .add(\"edad_años_meses\", IntegerType())\n",
    "          .add(\"residencia_pais_nombre\", StringType())\n",
    "          .add(\"residencia_provincia_nombre\", StringType())\n",
    "          .add(\"residencia_departamento_nombre\", StringType())\n",
    "          .add(\"carga_provincia_nombre\", StringType())\n",
    "          .add(\"fecha_inicio_sintomas\", DateType())\n",
    "\n",
    "          .add(\"fecha_apertura\", DateType())\n",
    "          .add(\"sepi_apertura\", IntegerType())\n",
    "          .add(\"fecha_internacion\", DateType())\n",
    "          .add(\"cuidado_intensivo\", StringType())\n",
    "          .add(\"fecha_cui_intensivo\", DateType())\n",
    "          .add(\"fallecido\", StringType())\n",
    "          .add(\"fecha_fallecimiento\", DateType())\n",
    "          \n",
    "          .add(\"asistencia_respiratoria_mecanica\", DateType())\n",
    "          .add(\"carga_provincia_id\", IntegerType())\n",
    "          .add(\"origen_financiamiento\", StringType())\n",
    "          .add(\"clasificacion\", StringType())\n",
    "          .add(\"clasificacion_resumen\", StringType())\n",
    "          .add(\"residencia_provincia_id\", DateType())\n",
    "          .add(\"fecha_diagnostico\", DateType())\n",
    "          .add(\"residencia_departamento_id\", IntegerType())\n",
    "          .add(\"ultima_actualizacion\", IntegerType())\n",
    "\n",
    "         )"
   ]
  },
  {
   "cell_type": "code",
   "execution_count": 4,
   "metadata": {},
   "outputs": [],
   "source": [
    "#levanto los casos\n",
    "dfcasosCompleto = spark.read.csv(\"/dataset/covid/Covid19Casos.csv\", header=True)\n",
    "\n",
    "#dfcasosCompleto = spark.read.csv(\"/dataset/covid/Covid19Casos.csv\", \n",
    "#                        schema=schema, header=True)\n",
    "\n"
   ]
  },
  {
   "cell_type": "code",
   "execution_count": 5,
   "metadata": {},
   "outputs": [],
   "source": [
    "##l .show muestra todo null. Luego la información está bien.\n",
    "dfcasosCompleto.show(5)\n"
   ]
  },
  {
   "cell_type": "code",
   "execution_count": 6,
   "metadata": {},
   "outputs": [],
   "source": [
    "dfcasosCompleto.count()"
   ]
  },
  {
   "cell_type": "markdown",
   "metadata": {},
   "source": [
    "Hay un total de 15.071.716 casos."
   ]
  },
  {
   "cell_type": "markdown",
   "metadata": {},
   "source": [
    "Cambio los tipos de las columnas. NO pude importarlo con el schema. Me trajo multiples errores"
   ]
  },
  {
   "cell_type": "code",
   "execution_count": 7,
   "metadata": {},
   "outputs": [],
   "source": [
    "#Randomly sample 10% of the data without replacement\n",
    "dfcasos = dfcasosCompleto.sample(False, 0.10, seed=7)"
   ]
  },
  {
   "cell_type": "code",
   "execution_count": 8,
   "metadata": {},
   "outputs": [
    {
     "data": {
      "text/plain": [
       "1507618"
      ]
     },
     "execution_count": 8,
     "metadata": {},
     "output_type": "execute_result"
    }
   ],
   "source": [
    "dfcasos.count()"
   ]
  },
  {
   "cell_type": "markdown",
   "metadata": {},
   "source": [
    "Cantidad de casos: 1.507.101"
   ]
  },
  {
   "cell_type": "code",
   "execution_count": 9,
   "metadata": {},
   "outputs": [
    {
     "name": "stdout",
     "output_type": "stream",
     "text": [
      "root\n",
      " |-- id_evento_caso: integer (nullable = true)\n",
      " |-- sexo: string (nullable = true)\n",
      " |-- edad: integer (nullable = true)\n",
      " |-- edad_años_meses: integer (nullable = true)\n",
      " |-- residencia_pais_nombre: string (nullable = true)\n",
      " |-- residencia_provincia_nombre: string (nullable = true)\n",
      " |-- residencia_departamento_nombre: string (nullable = true)\n",
      " |-- carga_provincia_nombre: string (nullable = true)\n",
      " |-- fecha_inicio_sintomas: date (nullable = true)\n",
      " |-- fecha_apertura: date (nullable = true)\n",
      " |-- sepi_apertura: integer (nullable = true)\n",
      " |-- fecha_internacion: date (nullable = true)\n",
      " |-- cuidado_intensivo: string (nullable = true)\n",
      " |-- fecha_cui_intensivo: date (nullable = true)\n",
      " |-- fallecido: string (nullable = true)\n",
      " |-- fecha_fallecimiento: date (nullable = true)\n",
      " |-- asistencia_respiratoria_mecanica: date (nullable = true)\n",
      " |-- carga_provincia_id: integer (nullable = true)\n",
      " |-- origen_financiamiento: string (nullable = true)\n",
      " |-- clasificacion: string (nullable = true)\n",
      " |-- clasificacion_resumen: string (nullable = true)\n",
      " |-- residencia_provincia_id: date (nullable = true)\n",
      " |-- fecha_diagnostico: date (nullable = true)\n",
      " |-- residencia_departamento_id: integer (nullable = true)\n",
      " |-- ultima_actualizacion: integer (nullable = true)\n",
      "\n"
     ]
    }
   ],
   "source": [
    "dfcasos.printSchema()"
   ]
  },
  {
   "cell_type": "code",
   "execution_count": 10,
   "metadata": {},
   "outputs": [],
   "source": [
    "dfcasos.write.parquet(\"/dataset/parquet/covidcasos.parquet\") "
   ]
  },
  {
   "cell_type": "markdown",
   "metadata": {},
   "source": [
    "# levanto el dataset de migrantes\n",
    "\n",
    "Voy a levantar ahora los dos archivos de migrantes, unirlos. Estos archivos corresponden a dos pedidos de información distintos."
   ]
  },
  {
   "cell_type": "code",
   "execution_count": 11,
   "metadata": {},
   "outputs": [],
   "source": [
    "schema_mig = (StructType()\n",
    "          .add(\"id_caso\", IntegerType())\n",
    "          .add(\"nacionalidad\", StringType())\n",
    "          .add(\"pais_nacimiento\", StringType())\n",
    "          .add(\"tipo_doc\", StringType())\n",
    "          .add(\"nro_doc\", IntegerType())\n",
    "          .add(\"doc_argentino\", IntegerType())\n",
    "          .add(\"base\", IntegerType())\n",
    "         )"
   ]
  },
  {
   "cell_type": "code",
   "execution_count": 12,
   "metadata": {},
   "outputs": [],
   "source": [
    "#dfmig1 = spark.read.option(\"delimiter\", \";\").csv(\"/dataset/covid/migrantes2020.csv\", header=True)\n"
   ]
  },
  {
   "cell_type": "code",
   "execution_count": 13,
   "metadata": {},
   "outputs": [],
   "source": [
    "dfmig1 = (spark.read.option(\"delimiter\", \";\").csv(\"/dataset/covid/migrantes2020.csv\", \n",
    "                         schema=schema_mig, header=True, \n",
    "                         ignoreLeadingWhiteSpace=True, \n",
    "                         ignoreTrailingWhiteSpace=True))\n"
   ]
  },
  {
   "cell_type": "code",
   "execution_count": 14,
   "metadata": {},
   "outputs": [],
   "source": [
    "#dfmig1.show()"
   ]
  },
  {
   "cell_type": "code",
   "execution_count": 15,
   "metadata": {},
   "outputs": [],
   "source": [
    "dfmig2 = (spark.read.option(\"delimiter\", \";\").csv(\"/dataset/covid/migrantes2021.csv\", \n",
    "                         schema=schema_mig, header=True, \n",
    "                         ignoreLeadingWhiteSpace=True, \n",
    "                         ignoreTrailingWhiteSpace=True))"
   ]
  },
  {
   "cell_type": "code",
   "execution_count": 16,
   "metadata": {},
   "outputs": [
    {
     "name": "stdout",
     "output_type": "stream",
     "text": [
      "root\n",
      " |-- id_caso: integer (nullable = true)\n",
      " |-- nacionalidad: string (nullable = true)\n",
      " |-- pais_nacimiento: string (nullable = true)\n",
      " |-- tipo_doc: string (nullable = true)\n",
      " |-- nro_doc: integer (nullable = true)\n",
      " |-- doc_argentino: integer (nullable = true)\n",
      " |-- base: integer (nullable = true)\n",
      "\n"
     ]
    }
   ],
   "source": [
    "dfmig2.printSchema()"
   ]
  },
  {
   "cell_type": "code",
   "execution_count": 17,
   "metadata": {},
   "outputs": [],
   "source": [
    "dfmig= dfmig1.union(dfmig2)\n",
    "\n",
    "# To remove the duplicates:\n",
    "\n",
    "#result = result.dropDuplicates()\n"
   ]
  },
  {
   "cell_type": "code",
   "execution_count": 18,
   "metadata": {},
   "outputs": [
    {
     "name": "stdout",
     "output_type": "stream",
     "text": [
      "root\n",
      " |-- id_caso: integer (nullable = true)\n",
      " |-- nacionalidad: string (nullable = true)\n",
      " |-- pais_nacimiento: string (nullable = true)\n",
      " |-- tipo_doc: string (nullable = true)\n",
      " |-- nro_doc: integer (nullable = true)\n",
      " |-- doc_argentino: integer (nullable = true)\n",
      " |-- base: integer (nullable = true)\n",
      "\n"
     ]
    }
   ],
   "source": [
    "dfmig.printSchema()"
   ]
  },
  {
   "cell_type": "code",
   "execution_count": 19,
   "metadata": {},
   "outputs": [
    {
     "data": {
      "text/plain": [
       "11437754"
      ]
     },
     "execution_count": 19,
     "metadata": {},
     "output_type": "execute_result"
    }
   ],
   "source": [
    "dfmig.count()"
   ]
  },
  {
   "cell_type": "code",
   "execution_count": 22,
   "metadata": {},
   "outputs": [],
   "source": [
    "##extraigo las columnas que me interesan para achicar el dataset\n",
    "dfmig.createOrReplaceTempView(\"dfmig\")\n",
    "\n",
    "dfTemp2= spark.sql(\"\"\" SELECT id_caso,pais_nacimiento\n",
    "    FROM dfmig \n",
    "    \"\"\")"
   ]
  },
  {
   "cell_type": "code",
   "execution_count": 23,
   "metadata": {},
   "outputs": [],
   "source": [
    "#dfmig.count()\n",
    "#vuelvo a chequear la distribución de fallecido\n",
    "#dfmig.groupBy('pais_nacimiento').count().orderBy('count').show()"
   ]
  },
  {
   "cell_type": "code",
   "execution_count": 25,
   "metadata": {},
   "outputs": [],
   "source": [
    "dfTemp2.write.parquet(\"/dataset/parquet/covidmigrantes2.parquet\") "
   ]
  },
  {
   "cell_type": "code",
   "execution_count": 28,
   "metadata": {},
   "outputs": [],
   "source": [
    "test1=spark.read.parquet(\"/dataset/parquet/covidcasos.parquet\") "
   ]
  },
  {
   "cell_type": "code",
   "execution_count": 29,
   "metadata": {},
   "outputs": [
    {
     "name": "stdout",
     "output_type": "stream",
     "text": [
      "root\n",
      " |-- id_evento_caso: integer (nullable = true)\n",
      " |-- sexo: string (nullable = true)\n",
      " |-- edad: integer (nullable = true)\n",
      " |-- edad_años_meses: integer (nullable = true)\n",
      " |-- residencia_pais_nombre: string (nullable = true)\n",
      " |-- residencia_provincia_nombre: string (nullable = true)\n",
      " |-- residencia_departamento_nombre: string (nullable = true)\n",
      " |-- carga_provincia_nombre: string (nullable = true)\n",
      " |-- fecha_inicio_sintomas: date (nullable = true)\n",
      " |-- fecha_apertura: date (nullable = true)\n",
      " |-- sepi_apertura: integer (nullable = true)\n",
      " |-- fecha_internacion: date (nullable = true)\n",
      " |-- cuidado_intensivo: string (nullable = true)\n",
      " |-- fecha_cui_intensivo: date (nullable = true)\n",
      " |-- fallecido: string (nullable = true)\n",
      " |-- fecha_fallecimiento: date (nullable = true)\n",
      " |-- asistencia_respiratoria_mecanica: date (nullable = true)\n",
      " |-- carga_provincia_id: integer (nullable = true)\n",
      " |-- origen_financiamiento: string (nullable = true)\n",
      " |-- clasificacion: string (nullable = true)\n",
      " |-- clasificacion_resumen: string (nullable = true)\n",
      " |-- residencia_provincia_id: date (nullable = true)\n",
      " |-- fecha_diagnostico: date (nullable = true)\n",
      " |-- residencia_departamento_id: integer (nullable = true)\n",
      " |-- ultima_actualizacion: integer (nullable = true)\n",
      "\n"
     ]
    }
   ],
   "source": [
    "test1.printSchema()"
   ]
  },
  {
   "cell_type": "code",
   "execution_count": 30,
   "metadata": {},
   "outputs": [
    {
     "data": {
      "text/plain": [
       "1507618"
      ]
     },
     "execution_count": 30,
     "metadata": {},
     "output_type": "execute_result"
    }
   ],
   "source": [
    "test1.count()"
   ]
  },
  {
   "cell_type": "code",
   "execution_count": 32,
   "metadata": {},
   "outputs": [],
   "source": [
    "test2=spark.read.parquet(\"/dataset/parquet/covidmigrantes2.parquet\") "
   ]
  },
  {
   "cell_type": "code",
   "execution_count": 33,
   "metadata": {},
   "outputs": [
    {
     "name": "stdout",
     "output_type": "stream",
     "text": [
      "root\n",
      " |-- id_caso: integer (nullable = true)\n",
      " |-- pais_nacimiento: string (nullable = true)\n",
      "\n"
     ]
    }
   ],
   "source": [
    "test2.printSchema()"
   ]
  },
  {
   "cell_type": "code",
   "execution_count": 34,
   "metadata": {},
   "outputs": [
    {
     "data": {
      "text/plain": [
       "11437754"
      ]
     },
     "execution_count": 34,
     "metadata": {},
     "output_type": "execute_result"
    }
   ],
   "source": [
    "test2.count()"
   ]
  },
  {
   "cell_type": "code",
   "execution_count": null,
   "metadata": {},
   "outputs": [],
   "source": []
  }
 ],
 "metadata": {
  "kernelspec": {
   "display_name": "Python 3",
   "language": "python",
   "name": "python3"
  },
  "language_info": {
   "codemirror_mode": {
    "name": "ipython",
    "version": 3
   },
   "file_extension": ".py",
   "mimetype": "text/x-python",
   "name": "python",
   "nbconvert_exporter": "python",
   "pygments_lexer": "ipython3",
   "version": "3.7.3"
  }
 },
 "nbformat": 4,
 "nbformat_minor": 4
}
