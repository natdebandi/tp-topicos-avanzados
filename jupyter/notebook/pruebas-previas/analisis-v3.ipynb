{
 "cells": [
  {
   "cell_type": "markdown",
   "metadata": {},
   "source": [
    "# TP DEBANDI\n",
    "\n",
    "## Análisis de los datos\n",
    "\n",
    "Este notebook es la continuación de la notebook de carga de datos que pre-proceso los datos de casos de Covid entre enero 2020 y mayo 2021, sumándole la información sobre origen de nacimiento (1-creacion-dataset-parquet)\n",
    "\n",
    "Para optimizar los tiempos de procesamiento y dado el volumen da datos se realizó el trabajo sobre una muestra del 10% (ver la notebook de carga)\n",
    "\n",
    "Son 474.572 casos confirmados que incluyen las siguientes variables:\n",
    "\n",
    "id_evento_caso: integer (nullable = true)\n",
    "sexo: string (nullable = true)\n",
    "edad: integer (nullable = true)\n",
    "fecha_inicio_sintomas: date (nullable = true)\n",
    "fecha_apertura: date (nullable = true)\n",
    "sepi_apertura: integer (nullable = true)\n",
    "origen_financiamiento: string (nullable = true)\n",
    "residencia_provincia_id: string (nullable = true)\n",
    "residencia_departamento_id: integer (nullable = true)\n",
    "fecha_internacion: date (nullable = true)\n",
    "cuidado_intensivo: string (nullable = true)\n",
    "fallecido: string (nullable = true)\n",
    "pais_nacimiento: string (nullable = true)\n",
    "\n",
    "El objetivo es realizar un análisis exploratorio de los datos inicial y luego aplicar alguna técnica de aprendizaje supervisado.\n"
   ]
  },
  {
   "cell_type": "code",
   "execution_count": 1,
   "metadata": {},
   "outputs": [],
   "source": [
    "import findspark\n",
    "findspark.init()"
   ]
  },
  {
   "cell_type": "code",
   "execution_count": 2,
   "metadata": {},
   "outputs": [],
   "source": [
    "from pyspark.sql import SparkSession\n",
    "spark = (\n",
    "    SparkSession.builder\n",
    "    .appName(\"pyspark-intro\")\n",
    "    .config(\"spark.driver.memory\", \"512m\")\n",
    "    .config(\"spark.driver.cores\", \"1\")\n",
    "    .config(\"spark.executor.memory\", \"512m\")\n",
    "    .config(\"spark.executor.cores\", \"1\")\n",
    "    .config(\"spark.sql.shuffle.partitions\", \"2\")\n",
    "    .getOrCreate()\n",
    ")"
   ]
  },
  {
   "cell_type": "markdown",
   "metadata": {},
   "source": [
    "Se leen los datos desde el archivo parquet creado en la notebook previa."
   ]
  },
  {
   "cell_type": "code",
   "execution_count": 3,
   "metadata": {},
   "outputs": [],
   "source": [
    "#dfTemp2.write.parquet(\"/dataset/parquet-confirmados-muestra/covid-muestra.parquet\") \n",
    "dfcovid=spark.read.parquet(\"/dataset/parquetv3/covidmigrantes.parquet\") \n",
    "\n"
   ]
  },
  {
   "cell_type": "code",
   "execution_count": 4,
   "metadata": {},
   "outputs": [
    {
     "name": "stdout",
     "output_type": "stream",
     "text": [
      "+--------------+----+----+---------------------+-------------------+-------------------+-------------+---------------------+-----------------------+--------------------------+-------------------+-----------------+---------+---------------+\n",
      "|id_evento_caso|sexo|edad|fecha_inicio_sintomas|     fecha_apertura|  fecha_diagnostico|sepi_apertura|origen_financiamiento|residencia_provincia_id|residencia_departamento_id|  fecha_internacion|cuidado_intensivo|fallecido|pais_nacimiento|\n",
      "+--------------+----+----+---------------------+-------------------+-------------------+-------------+---------------------+-----------------------+--------------------------+-------------------+-----------------+---------+---------------+\n",
      "|        740861|   F|  75|  2020-03-02 00:00:00|2020-03-07 00:00:00|2020-03-09 00:00:00|           10|              Público|                     22|                       140|               null|               NO|       NO|      Argentina|\n",
      "|        744751|   M|  67|  2020-03-08 00:00:00|2020-03-10 00:00:00|2020-03-11 00:00:00|           11|              Privado|                      2|                        14|2020-03-09 00:00:00|               NO|       NO|      Argentina|\n",
      "|        748647|   M|  25|  2020-03-07 00:00:00|2020-03-12 00:00:00|2020-03-15 00:00:00|           11|              Privado|                      2|                         1|2020-03-11 00:00:00|               NO|       NO|      Argentina|\n",
      "|        749791|   F|  21|  2020-03-08 00:00:00|2020-03-13 00:00:00|2020-03-18 00:00:00|           11|              Privado|                      2|                         0|2020-03-13 00:00:00|               NO|       NO|      Argentina|\n",
      "|        750884|   F|  29|  2020-03-13 00:00:00|2020-03-15 00:00:00|2020-03-17 00:00:00|           12|              Privado|                      6|                       805|2020-03-14 00:00:00|               NO|       NO|      Argentina|\n",
      "+--------------+----+----+---------------------+-------------------+-------------------+-------------+---------------------+-----------------------+--------------------------+-------------------+-----------------+---------+---------------+\n",
      "only showing top 5 rows\n",
      "\n"
     ]
    }
   ],
   "source": [
    "dfcovid.show(5)"
   ]
  },
  {
   "cell_type": "code",
   "execution_count": 5,
   "metadata": {},
   "outputs": [
    {
     "data": {
      "text/plain": [
       "474572"
      ]
     },
     "execution_count": 5,
     "metadata": {},
     "output_type": "execute_result"
    }
   ],
   "source": [
    "dfcovid.count()"
   ]
  },
  {
   "cell_type": "markdown",
   "metadata": {},
   "source": [
    "Se verifican que hay 474.572 casos"
   ]
  },
  {
   "cell_type": "code",
   "execution_count": 8,
   "metadata": {},
   "outputs": [
    {
     "data": {
      "text/plain": [
       "11437754"
      ]
     },
     "execution_count": 8,
     "metadata": {},
     "output_type": "execute_result"
    }
   ],
   "source": [
    "dfmigrantes.count()"
   ]
  },
  {
   "cell_type": "code",
   "execution_count": 17,
   "metadata": {},
   "outputs": [
    {
     "name": "stdout",
     "output_type": "stream",
     "text": [
      "root\n",
      " |-- id_caso: integer (nullable = true)\n",
      " |-- pais_nacimiento: string (nullable = true)\n",
      "\n"
     ]
    }
   ],
   "source": [
    "dfmigrantes.printSchema()"
   ]
  },
  {
   "cell_type": "code",
   "execution_count": 18,
   "metadata": {},
   "outputs": [
    {
     "name": "stdout",
     "output_type": "stream",
     "text": [
      "+-------+---------------+\n",
      "|id_caso|pais_nacimiento|\n",
      "+-------+---------------+\n",
      "| 718058|      Argentina|\n",
      "| 718055|      Argentina|\n",
      "| 718029|      Argentina|\n",
      "| 717926|      Argentina|\n",
      "| 717629|          China|\n",
      "+-------+---------------+\n",
      "only showing top 5 rows\n",
      "\n"
     ]
    }
   ],
   "source": [
    "dfmigrantes.show(5)"
   ]
  },
  {
   "cell_type": "code",
   "execution_count": 19,
   "metadata": {},
   "outputs": [
    {
     "name": "stdout",
     "output_type": "stream",
     "text": [
      "+--------------+----+----+---------------+----------------------+---------------------------+------------------------------+----------------------+---------------------+--------------+-------------+-----------------+-----------------+-------------------+---------+-------------------+--------------------------------+------------------+---------------------+-------------+---------------------+-----------------------+-----------------+--------------------------+--------------------+\n",
      "|id_evento_caso|sexo|edad|edad_años_meses|residencia_pais_nombre|residencia_provincia_nombre|residencia_departamento_nombre|carga_provincia_nombre|fecha_inicio_sintomas|fecha_apertura|sepi_apertura|fecha_internacion|cuidado_intensivo|fecha_cui_intensivo|fallecido|fecha_fallecimiento|asistencia_respiratoria_mecanica|carga_provincia_id|origen_financiamiento|clasificacion|clasificacion_resumen|residencia_provincia_id|fecha_diagnostico|residencia_departamento_id|ultima_actualizacion|\n",
      "+--------------+----+----+---------------+----------------------+---------------------------+------------------------------+----------------------+---------------------+--------------+-------------+-----------------+-----------------+-------------------+---------+-------------------+--------------------------------+------------------+---------------------+-------------+---------------------+-----------------------+-----------------+--------------------------+--------------------+\n",
      "|          null|null|null|           null|                  null|                       null|                          null|                  null|                 null|          null|         null|             null|             null|               null|     null|               null|                            null|              null|                 null|         null|                 null|                   null|             null|                      null|                null|\n",
      "|          null|null|null|           null|                  null|                       null|                          null|                  null|                 null|          null|         null|             null|             null|               null|     null|               null|                            null|              null|                 null|         null|                 null|                   null|             null|                      null|                null|\n",
      "|          null|null|null|           null|                  null|                       null|                          null|                  null|                 null|          null|         null|             null|             null|               null|     null|               null|                            null|              null|                 null|         null|                 null|                   null|             null|                      null|                null|\n",
      "|          null|null|null|           null|                  null|                       null|                          null|                  null|                 null|          null|         null|             null|             null|               null|     null|               null|                            null|              null|                 null|         null|                 null|                   null|             null|                      null|                null|\n",
      "|          null|null|null|           null|                  null|                       null|                          null|                  null|                 null|          null|         null|             null|             null|               null|     null|               null|                            null|              null|                 null|         null|                 null|                   null|             null|                      null|                null|\n",
      "+--------------+----+----+---------------+----------------------+---------------------------+------------------------------+----------------------+---------------------+--------------+-------------+-----------------+-----------------+-------------------+---------+-------------------+--------------------------------+------------------+---------------------+-------------+---------------------+-----------------------+-----------------+--------------------------+--------------------+\n",
      "only showing top 5 rows\n",
      "\n"
     ]
    }
   ],
   "source": [
    "dfcovid.show(5)"
   ]
  },
  {
   "cell_type": "code",
   "execution_count": 15,
   "metadata": {},
   "outputs": [],
   "source": [
    "dfcovid.createOrReplaceTempView(\"dfcovid\")\n",
    "dfmigrantes.createOrReplaceTempView(\"dfmigrantes\")\n",
    "\n",
    "dfTemp2= spark.sql(\"\"\" SELECT id_evento_caso,sexo, edad,\n",
    "fecha_inicio_sintomas,fecha_apertura,fecha_diagnostico,\n",
    "sepi_apertura,origen_financiamiento,\n",
    "residencia_provincia_id,residencia_departamento_id,\n",
    "pais_nacimiento,\n",
    "fecha_internacion,cuidado_intensivo,fallecido\n",
    "    FROM dfcovid join dfmigrantes on dfcovid.id_evento_caso=dfmigrantes.id_caso\n",
    "    \"\"\")\n"
   ]
  },
  {
   "cell_type": "code",
   "execution_count": 16,
   "metadata": {},
   "outputs": [
    {
     "data": {
      "text/plain": [
       "0"
      ]
     },
     "execution_count": 16,
     "metadata": {},
     "output_type": "execute_result"
    }
   ],
   "source": [
    "dfTemp2.count()"
   ]
  },
  {
   "cell_type": "markdown",
   "metadata": {},
   "source": [
    "455206 casos"
   ]
  },
  {
   "cell_type": "code",
   "execution_count": 7,
   "metadata": {},
   "outputs": [
    {
     "name": "stdout",
     "output_type": "stream",
     "text": [
      "+----+-----+\n",
      "|sexo|count|\n",
      "+----+-----+\n",
      "+----+-----+\n",
      "\n"
     ]
    }
   ],
   "source": [
    "dfcovid.groupBy('sexo').count().orderBy('count').show()"
   ]
  },
  {
   "cell_type": "code",
   "execution_count": 24,
   "metadata": {},
   "outputs": [
    {
     "name": "stdout",
     "output_type": "stream",
     "text": [
      "+----------+----------+\n",
      "|     fecha|fallecidos|\n",
      "+----------+----------+\n",
      "|2020-03-12|         1|\n",
      "|2020-03-17|         1|\n",
      "|2020-03-19|         1|\n",
      "|2020-03-20|         1|\n",
      "|2020-03-21|         1|\n",
      "|2020-03-23|         2|\n",
      "|2020-03-24|         2|\n",
      "|2020-03-25|         1|\n",
      "|2020-03-26|         1|\n",
      "|2020-03-27|         3|\n",
      "|2020-03-28|         3|\n",
      "|2020-03-30|         8|\n",
      "|2020-03-31|         2|\n",
      "|2020-04-01|         3|\n",
      "|2020-04-02|         2|\n",
      "|2020-04-03|         3|\n",
      "|2020-04-04|         3|\n",
      "|2020-04-05|         2|\n",
      "|2020-04-06|         4|\n",
      "|2020-04-07|         4|\n",
      "+----------+----------+\n",
      "only showing top 20 rows\n",
      "\n"
     ]
    }
   ],
   "source": [
    "dfcovid.createOrReplaceTempView(\"dfcovid\")\n",
    "\n",
    "dfTemp2= spark.sql(\"\"\"\n",
    "    Select fecha_apertura AS fecha, count(*) AS fallecidos\n",
    "    FROM dfcovid\n",
    "    Where fallecido='SI'\n",
    "    GROUP BY fecha_apertura\n",
    "    ORDER BY fecha_apertura asc\n",
    "    \"\"\")\n",
    "dfTemp2.show()"
   ]
  },
  {
   "cell_type": "code",
   "execution_count": 25,
   "metadata": {},
   "outputs": [
    {
     "data": {
      "image/png": "[encoded data removed]",
      "text/plain": [
       "<Figure size 432x288 with 1 Axes>"
      ]
     },
     "metadata": {
      "needs_background": "light"
     },
     "output_type": "display_data"
    }
   ],
   "source": [
    "import numpy as np\n",
    "import matplotlib.pyplot as plt\n",
    "\n",
    "import seaborn as sns\n",
    "sns.lineplot(x=\"fecha\", y=\"fallecidos\", data=dfTemp2.toPandas())\n",
    "plt.show()\n"
   ]
  },
  {
   "cell_type": "markdown",
   "metadata": {},
   "source": [
    "# Creación de features"
   ]
  },
  {
   "cell_type": "markdown",
   "metadata": {},
   "source": [
    "Creo nuevas columnas a partir de las existentes para el algoritmo,"
   ]
  },
  {
   "cell_type": "markdown",
   "metadata": {},
   "source": [
    "## Creo una variable migrante=si/no"
   ]
  },
  {
   "cell_type": "code",
   "execution_count": 29,
   "metadata": {},
   "outputs": [],
   "source": [
    "from pyspark.sql import functions as F\n",
    "\n",
    "#1 creo una columna que marque migrante/no migrante\n",
    "dfcovid=dfcovid.withColumn(\"migrante\", \n",
    "    F.when((F.col(\"pais_nacimiento\") == 'Argentina'), 0)\\\n",
    "    .when((F.col(\"pais_nacimiento\") == '*sin dato*'), 0)\\\n",
    "    .when((F.col(\"pais_nacimiento\") == ' '), 0)\\\n",
    "    .otherwise(1)\n",
    ")\n"
   ]
  },
  {
   "cell_type": "code",
   "execution_count": 30,
   "metadata": {},
   "outputs": [
    {
     "name": "stdout",
     "output_type": "stream",
     "text": [
      "+--------------+----+----+---------------------+--------------+-------------+---------------------+-----------------------+--------------------------+---------------+-----------------+-----------------+---------+--------+\n",
      "|id_evento_caso|sexo|edad|fecha_inicio_sintomas|fecha_apertura|sepi_apertura|origen_financiamiento|residencia_provincia_id|residencia_departamento_id|pais_nacimiento|fecha_internacion|cuidado_intensivo|fallecido|migrante|\n",
      "+--------------+----+----+---------------------+--------------+-------------+---------------------+-----------------------+--------------------------+---------------+-----------------+-----------------+---------+--------+\n",
      "|        733072|   F|  37|           2020-02-25|    2020-02-28|         null|              Público|             Descartado|                       410|      Argentina|             null|               NO|       NO|       0|\n",
      "|        734629|   F|  49|           2020-02-23|    2020-03-02|   2020-03-02|              Privado|             Descartado|                         0|      Argentina|             null|               NO|       NO|       0|\n",
      "|        736369|   M|  44|           2020-02-23|    2020-03-03|   2020-03-05|              Público|             Descartado|                         0|      Argentina|             null|               NO|       NO|       0|\n",
      "|        736398|   F|  13|           2020-02-26|    2020-03-03|   2020-03-06|              Privado|             Descartado|                        91|      Argentina|             null|               NO|       NO|       0|\n",
      "|        737038|   M|  25|           2020-02-29|    2020-03-04|         null|              Público|             Descartado|                       490|     *sin dato*|       2020-03-03|               NO|       NO|       0|\n",
      "+--------------+----+----+---------------------+--------------+-------------+---------------------+-----------------------+--------------------------+---------------+-----------------+-----------------+---------+--------+\n",
      "only showing top 5 rows\n",
      "\n"
     ]
    }
   ],
   "source": [
    "dfcovid.show(5)"
   ]
  },
  {
   "cell_type": "code",
   "execution_count": 31,
   "metadata": {},
   "outputs": [
    {
     "name": "stdout",
     "output_type": "stream",
     "text": [
      "+--------+------+\n",
      "|migrante| count|\n",
      "+--------+------+\n",
      "|       1| 20179|\n",
      "|       0|435027|\n",
      "+--------+------+\n",
      "\n"
     ]
    }
   ],
   "source": [
    "dfcovid.groupBy('migrante').count().orderBy('count').show()"
   ]
  },
  {
   "cell_type": "markdown",
   "metadata": {},
   "source": [
    "# Tipo de financiamiento\n",
    "\n",
    "lo transformo en una suerte de variable dummy\n"
   ]
  },
  {
   "cell_type": "code",
   "execution_count": 32,
   "metadata": {},
   "outputs": [
    {
     "name": "stdout",
     "output_type": "stream",
     "text": [
      "+---------------------+------+\n",
      "|origen_financiamiento| count|\n",
      "+---------------------+------+\n",
      "|              Privado|150574|\n",
      "|              Público|304632|\n",
      "+---------------------+------+\n",
      "\n"
     ]
    }
   ],
   "source": [
    "dfcovid.groupBy('origen_financiamiento').count().orderBy('count').show()"
   ]
  },
  {
   "cell_type": "code",
   "execution_count": 33,
   "metadata": {},
   "outputs": [],
   "source": [
    "dfcovid=dfcovid.withColumn(\"financiamiento\", \n",
    "    F.when((F.col(\"origen_financiamiento\") == 'Privado'), 0)\\\n",
    "    .when((F.col(\"origen_financiamiento\") == 'Público'), 1)\\\n",
    "    .otherwise(0)\n",
    ")\n"
   ]
  },
  {
   "cell_type": "markdown",
   "metadata": {},
   "source": [
    "## Transformo sexo a género con valores 1 y 0"
   ]
  },
  {
   "cell_type": "code",
   "execution_count": 34,
   "metadata": {},
   "outputs": [
    {
     "name": "stdout",
     "output_type": "stream",
     "text": [
      "+----+------+\n",
      "|SEXO| count|\n",
      "+----+------+\n",
      "|  NR|  6973|\n",
      "|   M|218157|\n",
      "|   F|230076|\n",
      "+----+------+\n",
      "\n"
     ]
    }
   ],
   "source": [
    "dfcovid.groupBy('SEXO').count().orderBy('count').show()"
   ]
  },
  {
   "cell_type": "code",
   "execution_count": 35,
   "metadata": {},
   "outputs": [
    {
     "name": "stdout",
     "output_type": "stream",
     "text": [
      "+------+------+\n",
      "|genero| count|\n",
      "+------+------+\n",
      "|  null|  6973|\n",
      "|     0|218157|\n",
      "|     1|230076|\n",
      "+------+------+\n",
      "\n"
     ]
    }
   ],
   "source": [
    "dfcovid=dfcovid.withColumn(\"genero\", \n",
    "    F.when((F.col(\"SEXO\") == 'NR'), None)\\\n",
    "    .when((F.col(\"SEXO\") == 'M'), 0)\\\n",
    "    .when((F.col(\"SEXO\") == 'F'), 1)\\\n",
    "    .otherwise(0)\n",
    ")\n",
    "\n",
    "dfcovid.groupBy('genero').count().orderBy('count').show()"
   ]
  },
  {
   "cell_type": "markdown",
   "metadata": {},
   "source": [
    "\n",
    "## Fecha diagnóstico\n",
    "Calculo la dierencia entre la fecha de sintomas y la de diagnóstico en días."
   ]
  },
  {
   "cell_type": "code",
   "execution_count": 36,
   "metadata": {},
   "outputs": [
    {
     "ename": "SyntaxError",
     "evalue": "unexpected EOF while parsing (<ipython-input-36-e849100fac3a>, line 5)",
     "output_type": "error",
     "traceback": [
      "\u001b[0;36m  File \u001b[0;32m\"<ipython-input-36-e849100fac3a>\"\u001b[0;36m, line \u001b[0;32m5\u001b[0m\n\u001b[0;31m    to_date(\"fecha_sintomas\").show()\u001b[0m\n\u001b[0m                                    ^\u001b[0m\n\u001b[0;31mSyntaxError\u001b[0m\u001b[0;31m:\u001b[0m unexpected EOF while parsing\n"
     ]
    }
   ],
   "source": [
    "from pyspark.sql.functions import datediff, to_date, lit\n",
    "\n",
    "dfcovid.withColumn(\"dias_dif\", \n",
    "              datediff(\"fecha_diagnostico\"),\n",
    "                       \"fecha_sintomas\").show()"
   ]
  },
  {
   "cell_type": "code",
   "execution_count": null,
   "metadata": {},
   "outputs": [],
   "source": []
  }
 ],
 "metadata": {
  "kernelspec": {
   "display_name": "Python 3",
   "language": "python",
   "name": "python3"
  },
  "language_info": {
   "codemirror_mode": {
    "name": "ipython",
    "version": 3
   },
   "file_extension": ".py",
   "mimetype": "text/x-python",
   "name": "python",
   "nbconvert_exporter": "python",
   "pygments_lexer": "ipython3",
   "version": "3.7.3"
  }
 },
 "nbformat": 4,
 "nbformat_minor": 4
}
