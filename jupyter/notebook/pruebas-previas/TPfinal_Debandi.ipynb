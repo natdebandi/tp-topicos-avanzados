{
 "cells": [
  {
   "cell_type": "markdown",
   "metadata": {},
   "source": [
    "# TP FINAL Debandi"
   ]
  },
  {
   "cell_type": "code",
   "execution_count": 2,
   "metadata": {},
   "outputs": [],
   "source": [
    "import findspark\n",
    "findspark.init()"
   ]
  },
  {
   "cell_type": "code",
   "execution_count": 3,
   "metadata": {},
   "outputs": [],
   "source": [
    "from pyspark.sql import SparkSession\n",
    "spark = (\n",
    "    SparkSession.builder\n",
    "    .appName(\"pyspark-intro\")\n",
    "    .config(\"spark.driver.memory\", \"512m\")\n",
    "    .config(\"spark.driver.cores\", \"1\")\n",
    "    .config(\"spark.executor.memory\", \"512m\")\n",
    "    .config(\"spark.executor.cores\", \"1\")\n",
    "    .config(\"spark.sql.shuffle.partitions\", \"2\")\n",
    "    .getOrCreate()\n",
    ")"
   ]
  },
  {
   "cell_type": "markdown",
   "metadata": {},
   "source": [
    "d_evento_caso: string (nullable = true)\n",
    " |-- sexo: string (nullable = true)\n",
    " |-- edad: string (nullable = true)\n",
    " |-- edad_años_meses: string (nullable = true)\n",
    " |-- residencia_pais_nombre: string (nullable = true)\n",
    " |-- residencia_provincia_nombre: string (nullable = true)\n",
    " |-- residencia_departamento_nombre: string (nullable = true)\n",
    " |-- carga_provincia_nombre: string (nullable = true)\n",
    " |-- fecha_inicio_sintomas: string (nullable = true)\n",
    " |-- fecha_apertura: string (nullable = true)\n",
    " |-- sepi_apertura: string (nullable = true)\n",
    " |-- fecha_internacion: string (nullable = true)\n",
    " |-- cuidado_intensivo: string (nullable = true)\n",
    " |-- fecha_cui_intensivo: string (nullable = true)\n",
    " |-- fallecido: string (nullable = true)\n",
    " |-- fecha_fallecimiento: string (nullable = true)\n",
    " |-- asistencia_respiratoria_mecanica: string (nullable = true)\n",
    " |-- carga_provincia_id: string (nullable = true)\n",
    " |-- origen_financiamiento: string (nullable = true)\n",
    " |-- clasificacion: string (nullable = true)\n",
    " |-- clasificacion_resumen: string (nullable = true)\n",
    " |-- residencia_provincia_id: string (nullable = true)\n",
    " |-- fecha_diagnostico: string (nullable = true)\n",
    " |-- residencia_departamento_id: string (nullable = true)\n",
    " |-- ultima_actualizacion: string (nullable = true)"
   ]
  },
  {
   "cell_type": "markdown",
   "metadata": {},
   "source": [
    "Levanto el dataset de casos con los tipos de cada columna para poder trabajarlos"
   ]
  },
  {
   "cell_type": "code",
   "execution_count": 17,
   "metadata": {},
   "outputs": [],
   "source": [
    "#especifico el esquema para poder definir los tipos\n",
    "from pyspark.sql.types import *\n",
    "\n",
    "schema = (StructType()\n",
    "          .add(\"id_evento_caso\", IntegerType())\n",
    "          .add(\"sexo\", StringType())\n",
    "          .add(\"edad\", IntegerType())\n",
    "          .add(\"edad_años_meses\", IntegerType())\n",
    "          .add(\"residencia_pais_nombre\", StringType())\n",
    "          .add(\"residencia_provincia_nombre\", StringType())\n",
    "          .add(\"residencia_departamento_nombre\", StringType())\n",
    "          .add(\"carga_provincia_nombre\", StringType())\n",
    "          .add(\"fecha_inicio_sintomas\", DateType())\n",
    "\n",
    "          .add(\"fecha_apertura\", DateType())\n",
    "          .add(\"sepi_apertura\", DateType())\n",
    "          .add(\"fecha_internacion\", DateType())\n",
    "          .add(\"cuidado_intensivo\", StringType())\n",
    "          .add(\"fecha_cui_intensivo\", DateType())\n",
    "          .add(\"fallecido\", StringType())\n",
    "          .add(\"fecha_fallecimiento\", DateType())\n",
    "          \n",
    "          .add(\"asistencia_respiratoria_mecanica\", DateType())\n",
    "          .add(\"carga_provincia_id\", IntegerType())\n",
    "          .add(\"origen_financiamiento\", StringType())\n",
    "          .add(\"clasificacion\", StringType())\n",
    "          .add(\"clasificacion_resumen\", StringType())\n",
    "          .add(\"residencia_provincia_id\", DateType())\n",
    "          .add(\"fecha_diagnostico\", DateType())\n",
    "          .add(\"residencia_departamento_id\", IntegerType())\n",
    "          .add(\"ultima_actualizacion\", IntegerType())\n",
    "\n",
    "         )"
   ]
  },
  {
   "cell_type": "code",
   "execution_count": 18,
   "metadata": {},
   "outputs": [],
   "source": [
    "#levanto los casos\n",
    "#dfcasos = spark.read.csv(\"/dataset/covid/Covid19Casos.csv\", header=True)\n",
    "\n",
    "eventsDf = (spark.read.csv(\"/dataset/covid/Covid19Casos.csv\", \n",
    "                         schema=schema, header=True, \n",
    "                         ignoreLeadingWhiteSpace=True, \n",
    "                         ignoreTrailingWhiteSpace=True))\n",
    "\n"
   ]
  },
  {
   "cell_type": "code",
   "execution_count": 19,
   "metadata": {},
   "outputs": [
    {
     "data": {
      "text/plain": [
       "15071716"
      ]
     },
     "execution_count": 19,
     "metadata": {},
     "output_type": "execute_result"
    }
   ],
   "source": [
    "dfcasos.count()"
   ]
  },
  {
   "cell_type": "code",
   "execution_count": 20,
   "metadata": {},
   "outputs": [
    {
     "name": "stdout",
     "output_type": "stream",
     "text": [
      "root\n",
      " |-- id_evento_caso: integer (nullable = true)\n",
      " |-- sexo: string (nullable = true)\n",
      " |-- edad: integer (nullable = true)\n",
      " |-- edad_años_meses: integer (nullable = true)\n",
      " |-- residencia_pais_nombre: string (nullable = true)\n",
      " |-- residencia_provincia_nombre: string (nullable = true)\n",
      " |-- residencia_departamento_nombre: string (nullable = true)\n",
      " |-- carga_provincia_nombre: string (nullable = true)\n",
      " |-- fecha_inicio_sintomas: date (nullable = true)\n",
      " |-- fecha_apertura: date (nullable = true)\n",
      " |-- sepi_apertura: date (nullable = true)\n",
      " |-- fecha_internacion: date (nullable = true)\n",
      " |-- cuidado_intensivo: string (nullable = true)\n",
      " |-- fecha_cui_intensivo: date (nullable = true)\n",
      " |-- fallecido: string (nullable = true)\n",
      " |-- fecha_fallecimiento: date (nullable = true)\n",
      " |-- asistencia_respiratoria_mecanica: date (nullable = true)\n",
      " |-- carga_provincia_id: integer (nullable = true)\n",
      " |-- origen_financiamiento: string (nullable = true)\n",
      " |-- clasificacion: string (nullable = true)\n",
      " |-- clasificacion_resumen: string (nullable = true)\n",
      " |-- residencia_provincia_id: date (nullable = true)\n",
      " |-- fecha_diagnostico: date (nullable = true)\n",
      " |-- residencia_departamento_id: date (nullable = true)\n",
      " |-- ultima_actualizacion: integer (nullable = true)\n",
      "\n"
     ]
    }
   ],
   "source": [
    "dfcasos.printSchema()"
   ]
  },
  {
   "cell_type": "code",
   "execution_count": 21,
   "metadata": {},
   "outputs": [
    {
     "name": "stdout",
     "output_type": "stream",
     "text": [
      "+---------+--------+\n",
      "|fallecido|   count|\n",
      "+---------+--------+\n",
      "|       SI|  118357|\n",
      "|       NO|14953359|\n",
      "+---------+--------+\n",
      "\n"
     ]
    }
   ],
   "source": [
    "#dft = dft.withColumn('fallecido', dft['fallecido']))\n",
    "dfcasos.groupBy('fallecido').count().orderBy('count').show(10)"
   ]
  },
  {
   "cell_type": "code",
   "execution_count": 24,
   "metadata": {},
   "outputs": [
    {
     "data": {
      "text/plain": [
       "DataFrame[summary: string, id_evento_caso: string, sexo: string, edad: string, edad_años_meses: string, residencia_pais_nombre: string, residencia_provincia_nombre: string, residencia_departamento_nombre: string, carga_provincia_nombre: string, cuidado_intensivo: string, fallecido: string, carga_provincia_id: string, origen_financiamiento: string, clasificacion: string, clasificacion_resumen: string, ultima_actualizacion: string]"
      ]
     },
     "execution_count": 24,
     "metadata": {},
     "output_type": "execute_result"
    }
   ],
   "source": [
    "dfcasos.describe()"
   ]
  },
  {
   "cell_type": "code",
   "execution_count": 29,
   "metadata": {},
   "outputs": [
    {
     "data": {
      "text/plain": [
       "Row(fecha_apertura=datetime.date(2021, 4, 17), fallecido='NO', count=56917)"
      ]
     },
     "execution_count": 29,
     "metadata": {},
     "output_type": "execute_result"
    }
   ],
   "source": [
    "import numpy as np\n",
    "import matplotlib.pyplot as plt\n",
    "\n",
    "fallecidos_por_fecha = dfcasos.groupby(['fecha_apertura', 'fallecido']).count() # separado agrupar tambien por fecha\n",
    "fallecidos_por_fecha.head()\n",
    "\n",
    "#plt.plot(fallecidos_por_fecha['fecha_apertura'],fallecidos_por_fecha['fallecido'])"
   ]
  },
  {
   "cell_type": "code",
   "execution_count": null,
   "metadata": {},
   "outputs": [],
   "source": []
  }
 ],
 "metadata": {
  "kernelspec": {
   "display_name": "Python 3",
   "language": "python",
   "name": "python3"
  },
  "language_info": {
   "codemirror_mode": {
    "name": "ipython",
    "version": 3
   },
   "file_extension": ".py",
   "mimetype": "text/x-python",
   "name": "python",
   "nbconvert_exporter": "python",
   "pygments_lexer": "ipython3",
   "version": "3.7.3"
  }
 },
 "nbformat": 4,
 "nbformat_minor": 4
}
