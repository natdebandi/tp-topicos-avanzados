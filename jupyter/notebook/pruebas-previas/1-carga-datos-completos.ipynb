{
 "cells": [
  {
   "cell_type": "markdown",
   "metadata": {},
   "source": [
    "# TP FINAL Debandi"
   ]
  },
  {
   "cell_type": "markdown",
   "metadata": {},
   "source": [
    "## Carga de datos y preparación del dataset\n",
    "\n",
    "En este trabajo utilizo los datos de Covid-19 junto con un dataset complementario de información sobre cuando cada persona es migrante o no.\n",
    "\n",
    "Este notebook levanta tres archivos: \n",
    "casosCovid: es un archivo de casos de marzo 2020 hasta mayo 2021. Este archivo fue bajado desde el sitio de datos abiertos del Ministerio de Salud de Argentina\n",
    "http://datos.salud.gob.ar/dataset?groups=covid-19\n",
    "\n",
    "migrantes2020 y migrantes2021: ambos archivos corresponden a dos pedidos de acceso a la información publica realizados en 2021. Este archivo contempla el ID-caso y algunos campos para dar cuenta de la nacionalidad y el país de nacimiento de cada persona.\n",
    "\n",
    "La cantidad de registros del archivo de casos es de 15.071.716 \n",
    "\n",
    "Esta notebook levanta los archivos de casos y filtra solo los casos confirmados, luego hace un join con los datos de migrantes y se guardan los datos en formato parquet. En la notebook de análisis se toman directamente estos datos."
   ]
  },
  {
   "cell_type": "code",
   "execution_count": 1,
   "metadata": {},
   "outputs": [],
   "source": [
    "import findspark\n",
    "findspark.init()"
   ]
  },
  {
   "cell_type": "code",
   "execution_count": 2,
   "metadata": {},
   "outputs": [],
   "source": [
    "from pyspark.sql import SparkSession\n",
    "spark = (\n",
    "    SparkSession.builder\n",
    "    .appName(\"pyspark-intro\")\n",
    "    .config(\"spark.driver.memory\", \"512m\")\n",
    "    .config(\"spark.driver.cores\", \"1\")\n",
    "    .config(\"spark.executor.memory\", \"512m\")\n",
    "    .config(\"spark.executor.cores\", \"1\")\n",
    "    .config(\"spark.sql.shuffle.partitions\", \"2\")\n",
    "    .getOrCreate()\n",
    ")"
   ]
  },
  {
   "cell_type": "markdown",
   "metadata": {},
   "source": [
    "# Levanto los datos y los exploro"
   ]
  },
  {
   "cell_type": "markdown",
   "metadata": {},
   "source": [
    "Levanto el dataset de casos con los tipos de cada columna para poder trabajarlos"
   ]
  },
  {
   "cell_type": "code",
   "execution_count": 3,
   "metadata": {},
   "outputs": [],
   "source": [
    "#especifico el esquema para poder definir los tipos\n",
    "from pyspark.sql.types import *\n",
    "\n",
    "schema = (StructType()\n",
    "          .add(\"id_evento_caso\", IntegerType())\n",
    "          .add(\"sexo\", StringType())\n",
    "          .add(\"edad\", IntegerType())\n",
    "          .add(\"edad_años_meses\", IntegerType())\n",
    "          .add(\"residencia_pais_nombre\", StringType())\n",
    "          .add(\"residencia_provincia_nombre\", StringType())\n",
    "          .add(\"residencia_departamento_nombre\", StringType())\n",
    "          .add(\"carga_provincia_nombre\", StringType())\n",
    "          .add(\"fecha_inicio_sintomas\", DateType())\n",
    "\n",
    "          .add(\"fecha_apertura\", DateType())\n",
    "          .add(\"sepi_apertura\", IntegerType())\n",
    "          .add(\"fecha_internacion\", DateType())\n",
    "          .add(\"cuidado_intensivo\", StringType())\n",
    "          .add(\"fecha_cui_intensivo\", DateType())\n",
    "          .add(\"fallecido\", StringType())\n",
    "          .add(\"fecha_fallecimiento\", DateType())\n",
    "          \n",
    "          .add(\"asistencia_respiratoria_mecanica\", DateType())\n",
    "          .add(\"carga_provincia_id\", IntegerType())\n",
    "          .add(\"origen_financiamiento\", StringType())\n",
    "          .add(\"clasificacion\", StringType())\n",
    "          .add(\"clasificacion_resumen\", StringType())\n",
    "          .add(\"residencia_provincia_id\", DateType())\n",
    "          .add(\"fecha_diagnostico\", DateType())\n",
    "          .add(\"residencia_departamento_id\", IntegerType())\n",
    "          .add(\"ultima_actualizacion\", IntegerType())\n",
    "\n",
    "         )"
   ]
  },
  {
   "cell_type": "code",
   "execution_count": 4,
   "metadata": {},
   "outputs": [],
   "source": [
    "#levanto los casos\n",
    "#dfcasos = spark.read.csv(\"/dataset/covid/Covid19Casos.csv\", header=True)\n",
    "\n",
    "dfcasosCompleto = spark.read.csv(\"/dataset/covid/Covid19Casos.csv\", \n",
    "                        schema=schema, header=True)\n",
    "\n"
   ]
  },
  {
   "cell_type": "code",
   "execution_count": 5,
   "metadata": {},
   "outputs": [
    {
     "data": {
      "text/plain": [
       "15071716"
      ]
     },
     "execution_count": 5,
     "metadata": {},
     "output_type": "execute_result"
    }
   ],
   "source": [
    "dfcasosCompleto.count()"
   ]
  },
  {
   "cell_type": "markdown",
   "metadata": {},
   "source": [
    "Hay un total de 15.071.716 casos.\n",
    "\n",
    "Utilizo la variable clasificacion_resumen para ver los casos y poder reducir la base"
   ]
  },
  {
   "cell_type": "code",
   "execution_count": 6,
   "metadata": {},
   "outputs": [
    {
     "name": "stdout",
     "output_type": "stream",
     "text": [
      "+---------------------+-------+\n",
      "|clasificacion_resumen|  count|\n",
      "+---------------------+-------+\n",
      "|       Sin Clasificar|    404|\n",
      "|           Sospechoso|1483912|\n",
      "|           Confirmado|4749442|\n",
      "|           Descartado|8837958|\n",
      "+---------------------+-------+\n",
      "\n"
     ]
    }
   ],
   "source": [
    "#veo la cantidad de casos segun la clasificación\n",
    "dfcasosCompleto.groupBy('clasificacion_resumen').count().orderBy('count').show()"
   ]
  },
  {
   "cell_type": "markdown",
   "metadata": {},
   "source": [
    "La categoria que nos interesa es la de los casos confirmados: 4.749.442\n",
    "\n",
    "Sin Clasificar|    404|\n",
    "Sospechoso|1483912|\n",
    "Confirmado|4749442|\n",
    "Descartado|8837958|"
   ]
  },
  {
   "cell_type": "markdown",
   "metadata": {},
   "source": [
    "## Reduccion de la base \n",
    "\n",
    "Me quedo con algunas columnas:\n",
    "\n",
    "sexo\n",
    "edad: tomo solo este campo y no el de meses que corresponde a niños menores de 1 año. SOn pocos casos y puede confundir.\n",
    "\n",
    "Me quedo con estas tres fechas:\n",
    "fecha_apertura: fecha en que se inicia el registro del caso\n",
    "fecha_inicio_sintomas: fecha en que se inician los síntomas\n",
    "fecha_diagnostico: fecha en que se lo diagnostica\n",
    "sepi_apertura: este campo enumera la semana epidemilógica\n",
    "origen_financiamiento: público privado\n",
    "\n",
    "Sobre los campos de residencia conservo solo aquellos que tienen el id\n",
    "residencia_provincia_id \n",
    "residencia_departamento_id\n",
    "\n",
    "Estos tres campos están directamente relacionados con aquellos que se internaro o fallecieron, se toman para el análisis inicial\n",
    "fecha_internacion,cuidado_intensivo,fallecido\n",
    "\n",
    "Uso clasificacion_resumen para filtrar solo aquellos casos confirmados."
   ]
  },
  {
   "cell_type": "code",
   "execution_count": 36,
   "metadata": {},
   "outputs": [],
   "source": [
    "#dftemp.show(10)\n",
    "dfcasosCompleto.createOrReplaceTempView(\"dfcasosCompleto\")\n",
    "\n",
    "dfcasos= spark.sql(\"\"\" SELECT id_evento_caso,sexo, edad,\n",
    "fecha_inicio_sintomas,fecha_apertura,fecha_diagnostico,\n",
    "sepi_apertura,origen_financiamiento,\n",
    "residencia_provincia_id,residencia_departamento_id,\n",
    "fecha_internacion,cuidado_intensivo,fallecido\n",
    "FROM dfcasosCompleto \n",
    "WHERE clasificacion_resumen='Confirmado'\n",
    "     \"\"\")\n"
   ]
  },
  {
   "cell_type": "markdown",
   "metadata": {},
   "source": [
    "NOTA: el procesamiento está llevando muchisimo tiempo cada vez. Es un dataset muy grande por lo que voy a trabajar tomando solo el 10% de los casos para poder hacer el procesamiento. "
   ]
  },
  {
   "cell_type": "code",
   "execution_count": 8,
   "metadata": {},
   "outputs": [],
   "source": [
    "#Randomly sample 10% of the data without replacement\n",
    "#dfcasos = dfcasosCompleto.sample(False, 0.10, seed=7)"
   ]
  },
  {
   "cell_type": "code",
   "execution_count": 37,
   "metadata": {},
   "outputs": [
    {
     "data": {
      "text/plain": [
       "4749442"
      ]
     },
     "execution_count": 37,
     "metadata": {},
     "output_type": "execute_result"
    }
   ],
   "source": [
    "##CANTIDAD DE CASOS CONFIRMADOS\n",
    "dfcasos.count()"
   ]
  },
  {
   "cell_type": "markdown",
   "metadata": {},
   "source": [
    "Se obtiene 4.749.442 casoc confirmados"
   ]
  },
  {
   "cell_type": "code",
   "execution_count": 10,
   "metadata": {},
   "outputs": [
    {
     "name": "stdout",
     "output_type": "stream",
     "text": [
      "root\n",
      " |-- id_evento_caso: integer (nullable = true)\n",
      " |-- sexo: string (nullable = true)\n",
      " |-- edad: integer (nullable = true)\n",
      " |-- fecha_inicio_sintomas: date (nullable = true)\n",
      " |-- fecha_apertura: date (nullable = true)\n",
      " |-- sepi_apertura: date (nullable = true)\n",
      " |-- residencia_provincia_id: string (nullable = true)\n",
      " |-- residencia_departamento_id: integer (nullable = true)\n",
      " |-- fecha_internacion: date (nullable = true)\n",
      " |-- cuidado_intensivo: string (nullable = true)\n",
      " |-- fallecido: string (nullable = true)\n",
      "\n"
     ]
    }
   ],
   "source": [
    "dfcasos.printSchema()"
   ]
  },
  {
   "cell_type": "markdown",
   "metadata": {},
   "source": [
    "Analizo las columnas y sus valores."
   ]
  },
  {
   "cell_type": "code",
   "execution_count": 11,
   "metadata": {},
   "outputs": [
    {
     "name": "stdout",
     "output_type": "stream",
     "text": [
      "+-------+-------+------------------+\n",
      "|summary|   sexo|              edad|\n",
      "+-------+-------+------------------+\n",
      "|  count|4749442|           4748315|\n",
      "|   mean|   null|39.885846242298584|\n",
      "| stddev|   null|17.501906556820867|\n",
      "|    min|      F|               -15|\n",
      "|    25%|   null|                27|\n",
      "|    50%|   null|                38|\n",
      "|    75%|   null|                51|\n",
      "|    max|     NR|              1944|\n",
      "+-------+-------+------------------+\n",
      "\n"
     ]
    }
   ],
   "source": [
    "#summary de las variables principales\n",
    "\n",
    "dfcasos.select(\"sexo\", \"edad\",\"sepi_apertura\").summary().show()"
   ]
  },
  {
   "cell_type": "markdown",
   "metadata": {},
   "source": [
    "Fallecido"
   ]
  },
  {
   "cell_type": "code",
   "execution_count": 15,
   "metadata": {},
   "outputs": [
    {
     "name": "stdout",
     "output_type": "stream",
     "text": [
      "+---------+-------+\n",
      "|fallecido|  count|\n",
      "+---------+-------+\n",
      "|       SI| 101434|\n",
      "|       NO|4648008|\n",
      "+---------+-------+\n",
      "\n"
     ]
    }
   ],
   "source": [
    "#distribución de las variables categoriales: fallecido\n",
    "dfcasos.groupBy('fallecido').count().orderBy('count').show()"
   ]
  },
  {
   "cell_type": "code",
   "execution_count": 16,
   "metadata": {},
   "outputs": [
    {
     "name": "stdout",
     "output_type": "stream",
     "text": [
      "+----------+----------+\n",
      "|     fecha|fallecidos|\n",
      "+----------+----------+\n",
      "|2020-03-05|         1|\n",
      "|2020-03-10|         2|\n",
      "|2020-03-12|         1|\n",
      "|2020-03-13|         4|\n",
      "|2020-03-14|         1|\n",
      "|2020-03-16|         3|\n",
      "|2020-03-17|         2|\n",
      "|2020-03-19|         1|\n",
      "|2020-03-20|         2|\n",
      "|2020-03-22|         3|\n",
      "|2020-03-23|         5|\n",
      "|2020-03-24|         5|\n",
      "|2020-03-25|        11|\n",
      "|2020-03-26|        10|\n",
      "|2020-03-27|         6|\n",
      "|2020-03-28|         9|\n",
      "|2020-03-29|         4|\n",
      "|2020-03-30|        11|\n",
      "|2020-03-31|        10|\n",
      "|2020-04-01|        10|\n",
      "+----------+----------+\n",
      "only showing top 20 rows\n",
      "\n"
     ]
    }
   ],
   "source": [
    "#quiero analizar la cantidad de fallecidos por dia, de modo de ver la serie temporal.\n",
    "\n",
    "#dftemp = dfcasos.groupBy(\"fecha_apertura\",\"fallecido\").count().sort(\"fecha_apertura\") \n",
    "#dftemp.show(10)\n",
    "dfcasos.createOrReplaceTempView(\"dfcasos\")\n",
    "\n",
    "dfTemp2= spark.sql(\"\"\"\n",
    "    Select fecha_apertura AS fecha, count(*) AS fallecidos\n",
    "    FROM dfcasos\n",
    "    Where fallecido='SI'\n",
    "    GROUP BY fecha_apertura\n",
    "    ORDER BY fecha_apertura asc\n",
    "    \"\"\")\n",
    "dfTemp2.show()"
   ]
  },
  {
   "cell_type": "code",
   "execution_count": 17,
   "metadata": {},
   "outputs": [
    {
     "data": {
      "image/png": "[encoded data removed]",
      "text/plain": [
       "<Figure size 432x288 with 1 Axes>"
      ]
     },
     "metadata": {
      "needs_background": "light"
     },
     "output_type": "display_data"
    }
   ],
   "source": [
    "import numpy as np\n",
    "import matplotlib.pyplot as plt\n",
    "\n",
    "import seaborn as sns\n",
    "sns.lineplot(x=\"fecha\", y=\"fallecidos\", data=dfTemp2.toPandas())\n",
    "plt.show()\n"
   ]
  },
  {
   "cell_type": "markdown",
   "metadata": {},
   "source": [
    "# levanto el dataset de migrantes\n",
    "\n",
    "Voy a levantar ahora los dos archivos de migrantes, unirlos. Estos archivos corresponden a dos pedidos de información distintos."
   ]
  },
  {
   "cell_type": "code",
   "execution_count": 18,
   "metadata": {},
   "outputs": [],
   "source": [
    "schema_mig = (StructType()\n",
    "          .add(\"id_caso\", IntegerType())\n",
    "          .add(\"nacionalidad\", StringType())\n",
    "          .add(\"pais_nacimiento\", StringType())\n",
    "          .add(\"tipo_doc\", StringType())\n",
    "          .add(\"nro_doc\", IntegerType())\n",
    "          .add(\"doc_argentino\", IntegerType())\n",
    "          .add(\"base\", IntegerType())\n",
    "         )"
   ]
  },
  {
   "cell_type": "code",
   "execution_count": 19,
   "metadata": {},
   "outputs": [],
   "source": [
    "dfmig1 = (spark.read.option(\"delimiter\", \";\").csv(\"/dataset/covid/migrantes2020.csv\", \n",
    "                         schema=schema_mig, header=True, \n",
    "                         ignoreLeadingWhiteSpace=True, \n",
    "                         ignoreTrailingWhiteSpace=True))\n"
   ]
  },
  {
   "cell_type": "code",
   "execution_count": 20,
   "metadata": {},
   "outputs": [],
   "source": [
    "#dfmig1.show()"
   ]
  },
  {
   "cell_type": "code",
   "execution_count": 21,
   "metadata": {},
   "outputs": [],
   "source": [
    "dfmig2 = (spark.read.option(\"delimiter\", \";\").csv(\"/dataset/covid/migrantes2021.csv\", \n",
    "                         schema=schema_mig, header=True, \n",
    "                         ignoreLeadingWhiteSpace=True, \n",
    "                         ignoreTrailingWhiteSpace=True))"
   ]
  },
  {
   "cell_type": "code",
   "execution_count": 22,
   "metadata": {},
   "outputs": [
    {
     "name": "stdout",
     "output_type": "stream",
     "text": [
      "root\n",
      " |-- id_caso: integer (nullable = true)\n",
      " |-- nacionalidad: string (nullable = true)\n",
      " |-- pais_nacimiento: string (nullable = true)\n",
      " |-- tipo_doc: string (nullable = true)\n",
      " |-- nro_doc: integer (nullable = true)\n",
      " |-- doc_argentino: integer (nullable = true)\n",
      " |-- base: integer (nullable = true)\n",
      "\n"
     ]
    }
   ],
   "source": [
    "dfmig2.printSchema()"
   ]
  },
  {
   "cell_type": "code",
   "execution_count": 27,
   "metadata": {},
   "outputs": [],
   "source": [
    "#uno ambas bases\n",
    "dfmig=dfmig1.union(dfmig2)"
   ]
  },
  {
   "cell_type": "code",
   "execution_count": 28,
   "metadata": {},
   "outputs": [
    {
     "name": "stdout",
     "output_type": "stream",
     "text": [
      "root\n",
      " |-- id_caso: integer (nullable = true)\n",
      " |-- nacionalidad: string (nullable = true)\n",
      " |-- pais_nacimiento: string (nullable = true)\n",
      " |-- tipo_doc: string (nullable = true)\n",
      " |-- nro_doc: integer (nullable = true)\n",
      " |-- doc_argentino: integer (nullable = true)\n",
      " |-- base: integer (nullable = true)\n",
      "\n"
     ]
    }
   ],
   "source": [
    "dfmig.printSchema()"
   ]
  },
  {
   "cell_type": "code",
   "execution_count": 30,
   "metadata": {},
   "outputs": [
    {
     "data": {
      "text/plain": [
       "11437754"
      ]
     },
     "execution_count": 30,
     "metadata": {},
     "output_type": "execute_result"
    }
   ],
   "source": [
    "dfmig.count()"
   ]
  },
  {
   "cell_type": "markdown",
   "metadata": {},
   "source": [
    "Hay un total de 11.437.754 registros.\n",
    "Como se puede ver son menos que los casos originales.\n"
   ]
  },
  {
   "cell_type": "code",
   "execution_count": 32,
   "metadata": {},
   "outputs": [
    {
     "name": "stdout",
     "output_type": "stream",
     "text": [
      "+-------------------+-----+\n",
      "|    pais_nacimiento|count|\n",
      "+-------------------+-----+\n",
      "| Bosnia Herzegovina|    1|\n",
      "|          Sri Lanka|    1|\n",
      "|            Somalia|    1|\n",
      "|    Costa de Marfil|    1|\n",
      "|              Malta|    1|\n",
      "|           Barbados|    1|\n",
      "|          Antartida|    1|\n",
      "|            Bahamas|    1|\n",
      "|           Suriname|    1|\n",
      "|             Zambia|    1|\n",
      "|        Swazilandia|    1|\n",
      "|         Mozambique|    1|\n",
      "|            Grenada|    1|\n",
      "|       Islas Caiman|    1|\n",
      "|Antillas Holandesas|    1|\n",
      "|               Mal�|    1|\n",
      "|      Guinea Bissau|    1|\n",
      "|            Jamaica|    1|\n",
      "|            Eritrea|    1|\n",
      "|       Azerbaidahan|    1|\n",
      "+-------------------+-----+\n",
      "only showing top 20 rows\n",
      "\n"
     ]
    }
   ],
   "source": [
    "#dfmig.count()\n",
    "#analizo la distribución aprox de migrantes, luego se incorpora una variable más específica\n",
    "dfmig.groupBy('pais_nacimiento').count().orderBy('count').show()"
   ]
  },
  {
   "cell_type": "markdown",
   "metadata": {},
   "source": [
    "## Cración de base casos + migrantes\n",
    "\n",
    "Creo una unica base haciendo join con ambas bases: casos y migrantes. De la base de migrantes me quedo además solo con pais de nacimiento\n",
    "\n",
    "NOTA: para un trabajo más específico hay que diferenciar entre migrantes y extranjeros. Para definir migrantes se puede tomar personas nacidas en un país distinto a Argentina pero que residen en Argentina. (https://www.academia.edu/44535050/Incidencia_del_COVID_en_la_poblaci%C3%B3n_migrante_en_Argentina)\n",
    "En este trabajo se tomará directamente pais de nacimiento <> Argentina."
   ]
  },
  {
   "cell_type": "code",
   "execution_count": 38,
   "metadata": {},
   "outputs": [],
   "source": [
    "##\n",
    "dfcasos.createOrReplaceTempView(\"dfcasos\")\n",
    "dfmig.createOrReplaceTempView(\"dfmig\")\n",
    "\n",
    "dfTemp2= spark.sql(\"\"\" SELECT id_evento_caso,sexo, edad,\n",
    "fecha_inicio_sintomas,fecha_apertura,fecha_diagnostico,\n",
    "sepi_apertura,origen_financiamiento,\n",
    "residencia_provincia_id,residencia_departamento_id,\n",
    "pais_nacimiento,\n",
    "fecha_internacion,cuidado_intensivo,fallecido\n",
    "FROM dfcasos join dfmig on dfcasos.id_evento_caso=dfmig.id_caso\n",
    "     \"\"\")\n",
    "\n"
   ]
  },
  {
   "cell_type": "code",
   "execution_count": 39,
   "metadata": {},
   "outputs": [
    {
     "name": "stdout",
     "output_type": "stream",
     "text": [
      "+---------+-------+\n",
      "|fallecido|  count|\n",
      "+---------+-------+\n",
      "|       SI|  47811|\n",
      "|       NO|1619624|\n",
      "+---------+-------+\n",
      "\n"
     ]
    }
   ],
   "source": [
    "#vuelvo a chequear la distribución de fallecido\n",
    "dfTemp2.groupBy('fallecido').count().orderBy('count').show()"
   ]
  },
  {
   "cell_type": "code",
   "execution_count": 1,
   "metadata": {},
   "outputs": [
    {
     "ename": "NameError",
     "evalue": "name 'dfTemp2' is not defined",
     "output_type": "error",
     "traceback": [
      "\u001b[0;31m---------------------------------------------------------------------------\u001b[0m",
      "\u001b[0;31mNameError\u001b[0m                                 Traceback (most recent call last)",
      "\u001b[0;32m<ipython-input-1-a07716fa45e5>\u001b[0m in \u001b[0;36m<module>\u001b[0;34m\u001b[0m\n\u001b[0;32m----> 1\u001b[0;31m \u001b[0mdfTemp2\u001b[0m\u001b[0;34m.\u001b[0m\u001b[0mcount\u001b[0m\u001b[0;34m(\u001b[0m\u001b[0;34m)\u001b[0m\u001b[0;34m\u001b[0m\u001b[0;34m\u001b[0m\u001b[0m\n\u001b[0m",
      "\u001b[0;31mNameError\u001b[0m: name 'dfTemp2' is not defined"
     ]
    }
   ],
   "source": [
    "dfTemp2.count()"
   ]
  },
  {
   "cell_type": "markdown",
   "metadata": {},
   "source": [
    "Al hacer el join me quedo con un dataset que logré machear con ambas bases y que corresponde a casos confirmados.\n",
    "Tengo un total de XXXXXXX casos"
   ]
  },
  {
   "cell_type": "code",
   "execution_count": null,
   "metadata": {},
   "outputs": [],
   "source": [
    "#vuelvo a chequear la distribución de fallecido\n",
    "#dfTemp2.groupBy('pais_nacimiento').count().orderBy('count').show()"
   ]
  },
  {
   "cell_type": "markdown",
   "metadata": {},
   "source": [
    "Se guardan los archivos en formato parquet. Voy a probar si luego se mejora el performance."
   ]
  },
  {
   "cell_type": "code",
   "execution_count": 42,
   "metadata": {},
   "outputs": [],
   "source": [
    "dfTemp2.write.parquet(\"/dataset/parque-confirmados-completo/covid-completo.parquet\") "
   ]
  },
  {
   "cell_type": "code",
   "execution_count": null,
   "metadata": {},
   "outputs": [],
   "source": []
  },
  {
   "cell_type": "code",
   "execution_count": null,
   "metadata": {},
   "outputs": [],
   "source": []
  }
 ],
 "metadata": {
  "kernelspec": {
   "display_name": "Python 3",
   "language": "python",
   "name": "python3"
  },
  "language_info": {
   "codemirror_mode": {
    "name": "ipython",
    "version": 3
   },
   "file_extension": ".py",
   "mimetype": "text/x-python",
   "name": "python",
   "nbconvert_exporter": "python",
   "pygments_lexer": "ipython3",
   "version": "3.7.3"
  }
 },
 "nbformat": 4,
 "nbformat_minor": 4
}
