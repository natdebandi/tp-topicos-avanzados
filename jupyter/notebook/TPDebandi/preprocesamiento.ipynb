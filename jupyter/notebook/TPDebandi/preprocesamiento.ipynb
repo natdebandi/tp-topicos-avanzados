{
 "cells": [
  {
   "cell_type": "markdown",
   "metadata": {},
   "source": [
    "# TP FINAL Debandi"
   ]
  },
  {
   "cell_type": "markdown",
   "metadata": {},
   "source": [
    "## Carga de datos y preparación del dataset\n",
    "\n",
    "En este trabajo utilizo los datos de Covid-19 junto con un dataset complementario de información sobre cuando cada persona es migrante o no.\n",
    "\n",
    "Este notebook levanta tres archivos: \n",
    "casosCovid: es un archivo de casos de marzo 2020 hasta mayo 2021. Este archivo fue bajado desde el sitio de datos abiertos del Ministerio de Salud de Argentina\n",
    "http://datos.salud.gob.ar/dataset?groups=covid-19\n",
    "\n",
    "migrantes2020 y migrantes2021: ambos archivos corresponden a dos pedidos de acceso a la información publica realizados en 2021. Este archivo contempla el ID-caso y algunos campos para dar cuenta de la nacionalidad y el país de nacimiento de cada persona.\n",
    "\n",
    "La cantidad de registros del archivo de casos es dee 15.071.716 \n",
    "Dado el volumen y el tiempo que llevaba este procesamiento de manera local, para este trabajo se realizó una muesta del 10%.\n",
    "\n",
    "\n",
    "Esta notebook levanta los archivos de casos y toma una muestra del 10%., Hace un join con los datos de migrantes y se seleccionan las variables de interés.\n",
    "Luego se guardan los datos en formato parquet. En la notebook de análisis se toman directamente estos datos."
   ]
  },
  {
   "cell_type": "code",
   "execution_count": 1,
   "metadata": {},
   "outputs": [],
   "source": [
    "import findspark\n",
    "findspark.init()"
   ]
  },
  {
   "cell_type": "code",
   "execution_count": 2,
   "metadata": {},
   "outputs": [],
   "source": [
    "from pyspark.sql import SparkSession\n",
    "spark = (\n",
    "    SparkSession.builder\n",
    "    .appName(\"pyspark-intro\")\n",
    "    .config(\"spark.driver.memory\", \"512m\")\n",
    "    .config(\"spark.driver.cores\", \"1\")\n",
    "    .config(\"spark.executor.memory\", \"512m\")\n",
    "    .config(\"spark.executor.cores\", \"1\")\n",
    "    .config(\"spark.sql.shuffle.partitions\", \"2\")\n",
    "    .getOrCreate()\n",
    ")"
   ]
  },
  {
   "cell_type": "markdown",
   "metadata": {},
   "source": [
    "# Levanto los datos y los exploro"
   ]
  },
  {
   "cell_type": "markdown",
   "metadata": {},
   "source": [
    "Levanto el dataset de casos con los tipos de cada columna para poder trabajarlos"
   ]
  },
  {
   "cell_type": "code",
   "execution_count": 3,
   "metadata": {},
   "outputs": [],
   "source": [
    "#especifico el esquema para poder definir los tipos\n",
    "from pyspark.sql.types import *\n",
    "\n",
    "schema = (StructType()\n",
    "          .add(\"id_evento_caso\", IntegerType())\n",
    "          .add(\"sexo\", StringType())\n",
    "          .add(\"edad\", IntegerType())\n",
    "          .add(\"edad_años_meses\", IntegerType())\n",
    "          .add(\"residencia_pais_nombre\", StringType())\n",
    "          .add(\"residencia_provincia_nombre\", StringType())\n",
    "          .add(\"residencia_departamento_nombre\", StringType())\n",
    "          .add(\"carga_provincia_nombre\", StringType())\n",
    "          .add(\"fecha_inicio_sintomas\", DateType())\n",
    "\n",
    "          .add(\"fecha_apertura\", DateType())\n",
    "          .add(\"sepi_apertura\", IntegerType())\n",
    "          .add(\"fecha_internacion\", DateType())\n",
    "          .add(\"cuidado_intensivo\", StringType())\n",
    "          .add(\"fecha_cui_intensivo\", DateType())\n",
    "          .add(\"fallecido\", StringType())\n",
    "          .add(\"fecha_fallecimiento\", DateType())\n",
    "          \n",
    "          .add(\"asistencia_respiratoria_mecanica\", DateType())\n",
    "          .add(\"carga_provincia_id\", IntegerType())\n",
    "          .add(\"origen_financiamiento\", StringType())\n",
    "          .add(\"clasificacion\", StringType())\n",
    "          .add(\"clasificacion_resumen\", StringType())\n",
    "          .add(\"residencia_provincia_id\", DateType())\n",
    "          .add(\"fecha_diagnostico\", DateType())\n",
    "          .add(\"residencia_departamento_id\", IntegerType())\n",
    "          .add(\"ultima_actualizacion\", IntegerType())\n",
    "\n",
    "         )"
   ]
  },
  {
   "cell_type": "code",
   "execution_count": 4,
   "metadata": {},
   "outputs": [],
   "source": [
    "#levanto los casos\n",
    "#dfcasos = spark.read.csv(\"/dataset/covid/Covid19Casos.csv\", header=True)\n",
    "\n",
    "dfcasosCompleto = spark.read.csv(\"/dataset/covid/Covid19Casos.csv\", \n",
    "                        schema=schema, header=True)\n",
    "\n"
   ]
  },
  {
   "cell_type": "code",
   "execution_count": 5,
   "metadata": {},
   "outputs": [],
   "source": [
    "##l .show muestra todo null. Luego la información está bien.\n",
    "#dcasos.show()\n"
   ]
  },
  {
   "cell_type": "code",
   "execution_count": 6,
   "metadata": {},
   "outputs": [],
   "source": [
    "#dfcasosCompleto.count()"
   ]
  },
  {
   "cell_type": "markdown",
   "metadata": {},
   "source": [
    "Hay un total de 15.071.716 casos."
   ]
  },
  {
   "cell_type": "markdown",
   "metadata": {},
   "source": [
    "NOTA: el procesamiento está llevando muchisimo tiempo cada vez. Es un dataset muy grande por lo que voy a trabajar tomando solo el 10% de los casos para poder hacer el procesamiento. "
   ]
  },
  {
   "cell_type": "code",
   "execution_count": 7,
   "metadata": {},
   "outputs": [],
   "source": [
    "#Randomly sample 10% of the data without replacement\n",
    "dfcasos = dfcasosCompleto.sample(False, 0.10, seed=7)"
   ]
  },
  {
   "cell_type": "code",
   "execution_count": 8,
   "metadata": {},
   "outputs": [
    {
     "data": {
      "text/plain": [
       "1507618"
      ]
     },
     "execution_count": 8,
     "metadata": {},
     "output_type": "execute_result"
    }
   ],
   "source": [
    "dfcasos.count()"
   ]
  },
  {
   "cell_type": "markdown",
   "metadata": {},
   "source": [
    "Cantidad de casos: 1.507.101"
   ]
  },
  {
   "cell_type": "code",
   "execution_count": 9,
   "metadata": {},
   "outputs": [
    {
     "name": "stdout",
     "output_type": "stream",
     "text": [
      "root\n",
      " |-- id_evento_caso: integer (nullable = true)\n",
      " |-- sexo: string (nullable = true)\n",
      " |-- edad: integer (nullable = true)\n",
      " |-- edad_años_meses: integer (nullable = true)\n",
      " |-- residencia_pais_nombre: string (nullable = true)\n",
      " |-- residencia_provincia_nombre: string (nullable = true)\n",
      " |-- residencia_departamento_nombre: string (nullable = true)\n",
      " |-- carga_provincia_nombre: string (nullable = true)\n",
      " |-- fecha_inicio_sintomas: date (nullable = true)\n",
      " |-- fecha_apertura: date (nullable = true)\n",
      " |-- sepi_apertura: integer (nullable = true)\n",
      " |-- fecha_internacion: date (nullable = true)\n",
      " |-- cuidado_intensivo: string (nullable = true)\n",
      " |-- fecha_cui_intensivo: date (nullable = true)\n",
      " |-- fallecido: string (nullable = true)\n",
      " |-- fecha_fallecimiento: date (nullable = true)\n",
      " |-- asistencia_respiratoria_mecanica: date (nullable = true)\n",
      " |-- carga_provincia_id: integer (nullable = true)\n",
      " |-- origen_financiamiento: string (nullable = true)\n",
      " |-- clasificacion: string (nullable = true)\n",
      " |-- clasificacion_resumen: string (nullable = true)\n",
      " |-- residencia_provincia_id: date (nullable = true)\n",
      " |-- fecha_diagnostico: date (nullable = true)\n",
      " |-- residencia_departamento_id: integer (nullable = true)\n",
      " |-- ultima_actualizacion: integer (nullable = true)\n",
      "\n"
     ]
    }
   ],
   "source": [
    "dfcasos.printSchema()"
   ]
  },
  {
   "cell_type": "markdown",
   "metadata": {},
   "source": [
    "Analizo las columnas y sus valores."
   ]
  },
  {
   "cell_type": "code",
   "execution_count": 10,
   "metadata": {},
   "outputs": [],
   "source": [
    "#summary de las variables principales\n",
    "\n",
    "#dfcasos.select(\"sexo\", \"edad\",\"sepi_apertura\").summary().show()"
   ]
  },
  {
   "cell_type": "markdown",
   "metadata": {},
   "source": [
    "+-------+-------+-----------------+------------------+\n",
    "|summary|   sexo|             edad|     sepi_apertura|\n",
    "+-------+-------+-----------------+------------------+\n",
    "|  count|1507618|          1507101|           1507618|\n",
    "|   mean|   null|38.88564933604317|23.585339920324646|\n",
    "| stddev|   null|17.97187743019407|13.858153122317686|\n",
    "|    min|      F|              -14|                 1|\n",
    "|    25%|   null|               26|                14|\n",
    "|    50%|   null|               37|                22|\n",
    "|    75%|   null|               50|                33|\n",
    "|    max|     NR|              221|                53|\n",
    "+-------+-------+-----------------+------------------+\n"
   ]
  },
  {
   "cell_type": "code",
   "execution_count": 11,
   "metadata": {},
   "outputs": [],
   "source": [
    "#distribución de las variables categoriales: fallecido\n",
    "#dfcasos.groupBy('fallecido').count().orderBy('count').show()"
   ]
  },
  {
   "cell_type": "markdown",
   "metadata": {},
   "source": [
    "Dejo la distribución aqui para no tener que reprocesarlo la proxima\n",
    "+---------+-------+\n",
    "|fallecido|  count|\n",
    "+---------+-------+\n",
    "|       SI|  11949|\n",
    "|       NO|1495669|\n",
    "+---------+-------+"
   ]
  },
  {
   "cell_type": "code",
   "execution_count": 12,
   "metadata": {},
   "outputs": [],
   "source": [
    "#distribución de la variable clasificación\n",
    "#dfcasos.groupBy(\"clasificacion\").count().show() \n"
   ]
  },
  {
   "cell_type": "markdown",
   "metadata": {},
   "source": [
    "+--------------------+------+\n",
    "|       clasificacion| count|\n",
    "+--------------------+------+\n",
    "|Caso confirmado p...|386047|\n",
    "|Caso con resultad...| 87962|\n",
    "|Caso sospechoso -...| 21946|\n",
    "|Caso sospechoso -...|  1249|\n",
    "|Caso confirmado p...| 15161|\n",
    "|Caso confirmado p...| 40754|\n",
    "|Caso con resultad...|  1232|\n",
    "|Caso confirmado p...|   652|\n",
    "|    Otro diagnostico|   886|\n",
    "|Caso sospechoso -...|   123|\n",
    "|Caso sospechoso  ...|   483|\n",
    "|Caso confirmado p...|   227|\n",
    "|      Sin clasificar|    44|\n",
    "|Caso confirmado p...| 10440|\n",
    "|Caso sospechoso -...|    48|\n",
    "|Caso sospechoso -...|     6|\n",
    "|Caso sospechoso -...|  1632|\n",
    "|     Caso Descartado|881287|\n",
    "|Caso confirmado p...| 10723|\n",
    "|Caso confirmado p...|  9999|\n",
    "+--------------------+------+\n",
    "only showing top 20 rows"
   ]
  },
  {
   "cell_type": "code",
   "execution_count": 13,
   "metadata": {},
   "outputs": [],
   "source": [
    "#dfcasos.groupBy(\"clasificacion_resumen\").count().show() "
   ]
  },
  {
   "cell_type": "markdown",
   "metadata": {},
   "source": [
    "+---------------------+------+\n",
    "|clasificacion_resumen| count|\n",
    "+---------------------+------+\n",
    "|           Descartado|884392|\n",
    "|           Sospechoso|148610|\n",
    "|           Confirmado|474572|\n",
    "|       Sin Clasificar|    44|\n",
    "+---------------------+------+"
   ]
  },
  {
   "cell_type": "code",
   "execution_count": 14,
   "metadata": {},
   "outputs": [
    {
     "name": "stdout",
     "output_type": "stream",
     "text": [
      "+----------+----------+\n",
      "|     fecha|fallecidos|\n",
      "+----------+----------+\n",
      "|2020-03-12|         1|\n",
      "|2020-03-17|         1|\n",
      "|2020-03-19|         1|\n",
      "|2020-03-20|         1|\n",
      "|2020-03-21|         1|\n",
      "|2020-03-23|         2|\n",
      "|2020-03-24|         2|\n",
      "|2020-03-25|         1|\n",
      "|2020-03-26|         1|\n",
      "|2020-03-27|         3|\n",
      "|2020-03-28|         3|\n",
      "|2020-03-30|         8|\n",
      "|2020-03-31|         2|\n",
      "|2020-04-01|         3|\n",
      "|2020-04-02|         2|\n",
      "|2020-04-03|         3|\n",
      "|2020-04-04|         3|\n",
      "|2020-04-05|         2|\n",
      "|2020-04-06|         4|\n",
      "|2020-04-07|         4|\n",
      "+----------+----------+\n",
      "only showing top 20 rows\n",
      "\n"
     ]
    }
   ],
   "source": [
    "#quiero analizar la cantidad de fallecidos por dia, de modo de ver la serie temporal.\n",
    "\n",
    "#dftemp = dfcasos.groupBy(\"fecha_apertura\",\"fallecido\").count().sort(\"fecha_apertura\") \n",
    "#dftemp.show(10)\n",
    "dfcasos.createOrReplaceTempView(\"dfcasos\")\n",
    "\n",
    "dfTemp2= spark.sql(\"\"\"\n",
    "    Select fecha_apertura AS fecha, count(*) AS fallecidos\n",
    "    FROM dfcasos\n",
    "    Where fallecido='SI'\n",
    "    GROUP BY fecha_apertura\n",
    "    ORDER BY fecha_apertura asc\n",
    "    \"\"\")\n",
    "dfTemp2.show()"
   ]
  },
  {
   "cell_type": "code",
   "execution_count": 15,
   "metadata": {},
   "outputs": [
    {
     "data": {
      "image/png": "[encoded data removed]",
      "text/plain": [
       "<Figure size 432x288 with 1 Axes>"
      ]
     },
     "metadata": {
      "needs_background": "light"
     },
     "output_type": "display_data"
    }
   ],
   "source": [
    "import numpy as np\n",
    "import matplotlib.pyplot as plt\n",
    "\n",
    "import seaborn as sns\n",
    "sns.lineplot(x=\"fecha\", y=\"fallecidos\", data=dfTemp2.toPandas())\n",
    "plt.show()\n"
   ]
  },
  {
   "cell_type": "markdown",
   "metadata": {},
   "source": [
    "# levanto el dataset de migrantes\n",
    "\n",
    "Voy a levantar ahora los dos archivos de migrantes, unirlos. Estos archivos corresponden a dos pedidos de información distintos."
   ]
  },
  {
   "cell_type": "code",
   "execution_count": 16,
   "metadata": {},
   "outputs": [],
   "source": [
    "schema_mig = (StructType()\n",
    "          .add(\"id_caso\", IntegerType())\n",
    "          .add(\"nacionalidad\", StringType())\n",
    "          .add(\"pais_nacimiento\", StringType())\n",
    "          .add(\"tipo_doc\", StringType())\n",
    "          .add(\"nro_doc\", IntegerType())\n",
    "          .add(\"doc_argentino\", IntegerType())\n",
    "          .add(\"base\", IntegerType())\n",
    "         )"
   ]
  },
  {
   "cell_type": "code",
   "execution_count": 17,
   "metadata": {},
   "outputs": [],
   "source": [
    "#dfmig1 = spark.read.option(\"delimiter\", \";\").csv(\"/dataset/covid/migrantes2020.csv\", header=True)\n"
   ]
  },
  {
   "cell_type": "code",
   "execution_count": 18,
   "metadata": {},
   "outputs": [],
   "source": [
    "dfmig1 = (spark.read.option(\"delimiter\", \";\").csv(\"/dataset/covid/migrantes2020.csv\", \n",
    "                         schema=schema_mig, header=True, \n",
    "                         ignoreLeadingWhiteSpace=True, \n",
    "                         ignoreTrailingWhiteSpace=True))\n"
   ]
  },
  {
   "cell_type": "code",
   "execution_count": 19,
   "metadata": {},
   "outputs": [],
   "source": [
    "#dfmig1.show()"
   ]
  },
  {
   "cell_type": "code",
   "execution_count": 20,
   "metadata": {},
   "outputs": [],
   "source": [
    "dfmig2 = (spark.read.option(\"delimiter\", \";\").csv(\"/dataset/covid/migrantes2021.csv\", \n",
    "                         schema=schema_mig, header=True, \n",
    "                         ignoreLeadingWhiteSpace=True, \n",
    "                         ignoreTrailingWhiteSpace=True))"
   ]
  },
  {
   "cell_type": "code",
   "execution_count": 21,
   "metadata": {},
   "outputs": [
    {
     "name": "stdout",
     "output_type": "stream",
     "text": [
      "root\n",
      " |-- id_caso: integer (nullable = true)\n",
      " |-- nacionalidad: string (nullable = true)\n",
      " |-- pais_nacimiento: string (nullable = true)\n",
      " |-- tipo_doc: string (nullable = true)\n",
      " |-- nro_doc: integer (nullable = true)\n",
      " |-- doc_argentino: integer (nullable = true)\n",
      " |-- base: integer (nullable = true)\n",
      "\n"
     ]
    }
   ],
   "source": [
    "dfmig2.printSchema()"
   ]
  },
  {
   "cell_type": "code",
   "execution_count": 22,
   "metadata": {},
   "outputs": [],
   "source": [
    "dfmig= dfmig1.union(dfmig2)\n",
    "\n",
    "# To remove the duplicates:\n",
    "\n",
    "#result = result.dropDuplicates()\n"
   ]
  },
  {
   "cell_type": "code",
   "execution_count": 23,
   "metadata": {},
   "outputs": [
    {
     "name": "stdout",
     "output_type": "stream",
     "text": [
      "root\n",
      " |-- id_caso: integer (nullable = true)\n",
      " |-- nacionalidad: string (nullable = true)\n",
      " |-- pais_nacimiento: string (nullable = true)\n",
      " |-- tipo_doc: string (nullable = true)\n",
      " |-- nro_doc: integer (nullable = true)\n",
      " |-- doc_argentino: integer (nullable = true)\n",
      " |-- base: integer (nullable = true)\n",
      "\n"
     ]
    }
   ],
   "source": [
    "dfmig.printSchema()"
   ]
  },
  {
   "cell_type": "code",
   "execution_count": 24,
   "metadata": {},
   "outputs": [
    {
     "data": {
      "text/plain": [
       "11437754"
      ]
     },
     "execution_count": 24,
     "metadata": {},
     "output_type": "execute_result"
    }
   ],
   "source": [
    "dfmig.count()"
   ]
  },
  {
   "cell_type": "code",
   "execution_count": 25,
   "metadata": {},
   "outputs": [
    {
     "name": "stdout",
     "output_type": "stream",
     "text": [
      "+-------------------+-----+\n",
      "|    pais_nacimiento|count|\n",
      "+-------------------+-----+\n",
      "|       Islas Caiman|    1|\n",
      "|            Bahamas|    1|\n",
      "|Antillas Holandesas|    1|\n",
      "|       Azerbaidahan|    1|\n",
      "|            Grenada|    1|\n",
      "|              Malta|    1|\n",
      "|           Barbados|    1|\n",
      "| Bosnia Herzegovina|    1|\n",
      "|            Jamaica|    1|\n",
      "|               Mal�|    1|\n",
      "|             Gambia|    1|\n",
      "|             Zambia|    1|\n",
      "|              Qatar|    1|\n",
      "|    Costa de Marfil|    1|\n",
      "|            Eritrea|    1|\n",
      "|          Sri Lanka|    1|\n",
      "|     Timor Oriental|    1|\n",
      "|           Suriname|    1|\n",
      "|              Gab�n|    1|\n",
      "|   French Polynesia|    1|\n",
      "+-------------------+-----+\n",
      "only showing top 20 rows\n",
      "\n"
     ]
    }
   ],
   "source": [
    "#dfmig.count()\n",
    "#vuelvo a chequear la distribución de fallecido\n",
    "dfmig.groupBy('pais_nacimiento').count().orderBy('count').show()"
   ]
  },
  {
   "cell_type": "markdown",
   "metadata": {},
   "source": [
    "## Cración de base casos + migrantes\n",
    "\n",
    "Creo una unica base haciendo join con ambas bases: casos y migrantes. Me quedo además solo con las columnas que me interesan.\n",
    "\n",
    "BASE CASOS:\n",
    "sexo\n",
    "edad: tomo solo este campo y no el de meses que corresponde a niños menores de 1 año. SOn pocos casos y puede confundir.\n",
    "\n",
    "Me quedo con estas tres fechas:\n",
    "fecha_apertura: fecha en que se inicia el registro del caso\n",
    "fecha_inicio_sintomas: fecha en que se inician los síntomas\n",
    "fecha_diagnostico: fecha en que se lo diagnostica\n",
    "sepi_apertura: este campo enumera la semana epidemilógica\n",
    "origen_financiamiento: público privado\n",
    "clasificacion_resumen: me quedo solo con esta columna simplificada de clasificación. Permitirá luego filtrar solo aquellos casos confirmados.\n",
    "\n",
    "Sobre los campos de residencia conservo solo aquellos que tienen el id\n",
    "residencia_provincia_id \n",
    "residencia_departamento_id\n",
    "\n",
    "Estos tres campos están directamente relacionados con aquellos que se internaro o fallecieron, se toman para el análisis inicial\n",
    "fecha_internacion,cuidado_intensivo,fallecido\n",
    "\n",
    "BASE MIGRANTES\n",
    "me quedo solo con pais de nacimiento\n",
    "\n",
    "NOTA: para un trabajo más específico hay que diferenciar entre migrantes y extranjeros. Para definir migrantes se puede tomar personas nacidas en un país distinto a Argentina pero que residen en Argentina. (https://www.academia.edu/44535050/Incidencia_del_COVID_en_la_poblaci%C3%B3n_migrante_en_Argentina)\n",
    "En este trabajo se tomará directamente pais de nacimiento <> Argentina."
   ]
  },
  {
   "cell_type": "code",
   "execution_count": 30,
   "metadata": {},
   "outputs": [],
   "source": [
    "##\n",
    "dfcasos.createOrReplaceTempView(\"dfcasos\")\n",
    "dfmig.createOrReplaceTempView(\"dfmig\")\n",
    "\n",
    "dfTemp2= spark.sql(\"\"\" SELECT id_evento_caso,sexo, edad,\n",
    "fecha_inicio_sintomas,fecha_apertura,fecha_diagnostico,\n",
    "sepi_apertura,origen_financiamiento,\n",
    "residencia_provincia_id,residencia_departamento_id,\n",
    "pais_nacimiento,\n",
    "fecha_internacion,cuidado_intensivo,fallecido\n",
    "    FROM dfcasos join dfmig on dfcasos.id_evento_caso=dfmig.id_caso\n",
    "    where clasificacion_resumen='Confirmado'\n",
    "    \"\"\")\n",
    "\n"
   ]
  },
  {
   "cell_type": "code",
   "execution_count": 31,
   "metadata": {},
   "outputs": [
    {
     "data": {
      "text/plain": [
       "166515"
      ]
     },
     "execution_count": 31,
     "metadata": {},
     "output_type": "execute_result"
    }
   ],
   "source": [
    "dfTemp2.count()"
   ]
  },
  {
   "cell_type": "markdown",
   "metadata": {},
   "source": [
    "El join de ambas bases (casos y migrantes) filtrado por confirmado se obtienen 166.515 casos"
   ]
  },
  {
   "cell_type": "code",
   "execution_count": 32,
   "metadata": {},
   "outputs": [
    {
     "name": "stdout",
     "output_type": "stream",
     "text": [
      "+---------+------+\n",
      "|fallecido| count|\n",
      "+---------+------+\n",
      "|       SI|  4867|\n",
      "|       NO|161648|\n",
      "+---------+------+\n",
      "\n"
     ]
    }
   ],
   "source": [
    "#vuelvo a chequear la distribución de fallecido\n",
    "dfTemp2.groupBy('fallecido').count().orderBy('count').show()"
   ]
  },
  {
   "cell_type": "code",
   "execution_count": 33,
   "metadata": {},
   "outputs": [
    {
     "name": "stdout",
     "output_type": "stream",
     "text": [
      "+--------------------+-----+\n",
      "|     pais_nacimiento|count|\n",
      "+--------------------+-----+\n",
      "|           Marruecos|    1|\n",
      "|           Eslovenia|    1|\n",
      "|           Antartida|    1|\n",
      "|           Tailandia|    1|\n",
      "|           Sud�frica|    1|\n",
      "|           Dinamarca|    1|\n",
      "|           Kazajst�n|    1|\n",
      "|              Egipto|    1|\n",
      "|           Palestina|    1|\n",
      "|     Rep�blica Checa|    1|\n",
      "|           Filipinas|    1|\n",
      "|             Austria|    1|\n",
      "|              Rwanda|    1|\n",
      "|              Taiw�n|    1|\n",
      "|             Andorra|    1|\n",
      "|                Ir�n|    1|\n",
      "|               Gab�n|    1|\n",
      "|              L�bano|    1|\n",
      "|             Rumania|    1|\n",
      "|British Indian Oc...|    1|\n",
      "+--------------------+-----+\n",
      "only showing top 20 rows\n",
      "\n"
     ]
    }
   ],
   "source": [
    "#vuelvo a chequear la distribución de fallecido\n",
    "#dfTemp2.groupBy('pais_nacimiento').count().orderBy('count').show()"
   ]
  },
  {
   "cell_type": "markdown",
   "metadata": {},
   "source": [
    "Se guardan los archivos en formato parquet. Voy a probar si luego se mejora el performance."
   ]
  },
  {
   "cell_type": "code",
   "execution_count": 34,
   "metadata": {},
   "outputs": [],
   "source": [
    "dfTemp2.write.parquet(\"/dataset/parquet-confirmados-muestra/covid-muestra.parquet\") "
   ]
  },
  {
   "cell_type": "markdown",
   "metadata": {},
   "source": []
  },
  {
   "cell_type": "code",
   "execution_count": null,
   "metadata": {},
   "outputs": [],
   "source": []
  },
  {
   "cell_type": "code",
   "execution_count": null,
   "metadata": {},
   "outputs": [],
   "source": []
  }
 ],
 "metadata": {
  "kernelspec": {
   "display_name": "Python 3",
   "language": "python",
   "name": "python3"
  },
  "language_info": {
   "codemirror_mode": {
    "name": "ipython",
    "version": 3
   },
   "file_extension": ".py",
   "mimetype": "text/x-python",
   "name": "python",
   "nbconvert_exporter": "python",
   "pygments_lexer": "ipython3",
   "version": "3.7.3"
  }
 },
 "nbformat": 4,
 "nbformat_minor": 4
}
