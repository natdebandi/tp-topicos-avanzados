{
 "cells": [
  {
   "cell_type": "markdown",
   "metadata": {},
   "source": [
    "# TP DEBANDI\n",
    "\n",
    "## Análisis de los datos\n",
    "\n",
    "Este notebook es la continuación de la notebook de carga de datos que pre-proceso los datos de casos de Covid entre enero 2020 y mayo 2021, sumándole la información sobre origen de nacimiento (1-creacion-dataset-parquet)\n",
    "\n",
    "Para optimizar los tiempos de procesamiento y dado el volumen da datos se realizó el trabajo sobre una muestra del 10% (ver la notebook de carga)\n",
    "\n",
    "Son 474.572 casos confirmados que incluyen las siguientes variables:\n",
    "\n",
    "id_evento_caso: integer (nullable = true)\n",
    "sexo: string (nullable = true)\n",
    "edad: integer (nullable = true)\n",
    "fecha_inicio_sintomas: date (nullable = true)\n",
    "fecha_apertura: date (nullable = true)\n",
    "sepi_apertura: integer (nullable = true)\n",
    "origen_financiamiento: string (nullable = true)\n",
    "residencia_provincia_id: string (nullable = true)\n",
    "residencia_departamento_id: integer (nullable = true)\n",
    "fecha_internacion: date (nullable = true)\n",
    "cuidado_intensivo: string (nullable = true)\n",
    "fallecido: string (nullable = true)\n",
    "pais_nacimiento: string (nullable = true)\n",
    "\n",
    "El objetivo es realizar un análisis exploratorio de los datos inicial y luego aplicar dos técnicas de clasificación binaria: regresión logística y árboles de clasificación para intentar predecir la valiable fallecido a partir de las variabvle sexistentes y los features.\n",
    "\n",
    "Es importante ACLARAR que se trata de un ejercicio con fines de diseñar lo que podría ser un experimento como este. Las variables con las que se cuenta no son suficientes para poder explicar el fallecimiento por COVID.\n",
    "\n",
    "Como se verá en los resultados, si bien los modelos parecen aprender correctamente los grupos (fallecidos vs no fallecidos) estan muy desbalanceados por lo que el éxito de los modelos es porque se clasifica la mayor parte como no fallecidos. \n",
    "\n",
    "No se realiz\n"
   ]
  },
  {
   "cell_type": "code",
   "execution_count": 1,
   "metadata": {},
   "outputs": [],
   "source": [
    "import findspark\n",
    "findspark.init()"
   ]
  },
  {
   "cell_type": "code",
   "execution_count": 2,
   "metadata": {},
   "outputs": [],
   "source": [
    "from pyspark.sql import SparkSession\n",
    "spark = (\n",
    "    SparkSession.builder\n",
    "    .appName(\"pyspark-intro\")\n",
    "    .config(\"spark.driver.memory\", \"512m\")\n",
    "    .config(\"spark.driver.cores\", \"1\")\n",
    "    .config(\"spark.executor.memory\", \"512m\")\n",
    "    .config(\"spark.executor.cores\", \"1\")\n",
    "    .config(\"spark.sql.shuffle.partitions\", \"2\")\n",
    "    .getOrCreate()\n",
    ")"
   ]
  },
  {
   "cell_type": "markdown",
   "metadata": {},
   "source": [
    "Se leen los datos desde el archivo parquet creado en la notebook previa."
   ]
  },
  {
   "cell_type": "code",
   "execution_count": 3,
   "metadata": {},
   "outputs": [],
   "source": [
    "#dfTemp2.write.parquet(\"/dataset/parquet-confirmados-muestra/covid-muestra.parquet\") \n",
    "dfcovid=spark.read.parquet(\"/dataset/parquetv3/covidmigrantes.parquet\") \n",
    "\n"
   ]
  },
  {
   "cell_type": "code",
   "execution_count": 4,
   "metadata": {},
   "outputs": [
    {
     "name": "stdout",
     "output_type": "stream",
     "text": [
      "+--------------+----+----+---------------------+-------------------+-------------------+-------------+---------------------+-----------------------+--------------------------+-------------------+-----------------+---------+---------------+\n",
      "|id_evento_caso|sexo|edad|fecha_inicio_sintomas|     fecha_apertura|  fecha_diagnostico|sepi_apertura|origen_financiamiento|residencia_provincia_id|residencia_departamento_id|  fecha_internacion|cuidado_intensivo|fallecido|pais_nacimiento|\n",
      "+--------------+----+----+---------------------+-------------------+-------------------+-------------+---------------------+-----------------------+--------------------------+-------------------+-----------------+---------+---------------+\n",
      "|        740861|   F|  75|  2020-03-02 00:00:00|2020-03-07 00:00:00|2020-03-09 00:00:00|           10|              Público|                     22|                       140|               null|               NO|       NO|      Argentina|\n",
      "|        744751|   M|  67|  2020-03-08 00:00:00|2020-03-10 00:00:00|2020-03-11 00:00:00|           11|              Privado|                      2|                        14|2020-03-09 00:00:00|               NO|       NO|      Argentina|\n",
      "|        748647|   M|  25|  2020-03-07 00:00:00|2020-03-12 00:00:00|2020-03-15 00:00:00|           11|              Privado|                      2|                         1|2020-03-11 00:00:00|               NO|       NO|      Argentina|\n",
      "|        749791|   F|  21|  2020-03-08 00:00:00|2020-03-13 00:00:00|2020-03-18 00:00:00|           11|              Privado|                      2|                         0|2020-03-13 00:00:00|               NO|       NO|      Argentina|\n",
      "|        750884|   F|  29|  2020-03-13 00:00:00|2020-03-15 00:00:00|2020-03-17 00:00:00|           12|              Privado|                      6|                       805|2020-03-14 00:00:00|               NO|       NO|      Argentina|\n",
      "+--------------+----+----+---------------------+-------------------+-------------------+-------------+---------------------+-----------------------+--------------------------+-------------------+-----------------+---------+---------------+\n",
      "only showing top 5 rows\n",
      "\n"
     ]
    }
   ],
   "source": [
    "dfcovid.show(5)"
   ]
  },
  {
   "cell_type": "code",
   "execution_count": 5,
   "metadata": {},
   "outputs": [
    {
     "data": {
      "text/plain": [
       "474572"
      ]
     },
     "execution_count": 5,
     "metadata": {},
     "output_type": "execute_result"
    }
   ],
   "source": [
    "dfcovid.count()"
   ]
  },
  {
   "cell_type": "code",
   "execution_count": 6,
   "metadata": {},
   "outputs": [
    {
     "name": "stdout",
     "output_type": "stream",
     "text": [
      "root\n",
      " |-- id_evento_caso: integer (nullable = true)\n",
      " |-- sexo: string (nullable = true)\n",
      " |-- edad: integer (nullable = true)\n",
      " |-- fecha_inicio_sintomas: timestamp (nullable = true)\n",
      " |-- fecha_apertura: timestamp (nullable = true)\n",
      " |-- fecha_diagnostico: timestamp (nullable = true)\n",
      " |-- sepi_apertura: integer (nullable = true)\n",
      " |-- origen_financiamiento: string (nullable = true)\n",
      " |-- residencia_provincia_id: integer (nullable = true)\n",
      " |-- residencia_departamento_id: integer (nullable = true)\n",
      " |-- fecha_internacion: timestamp (nullable = true)\n",
      " |-- cuidado_intensivo: string (nullable = true)\n",
      " |-- fallecido: string (nullable = true)\n",
      " |-- pais_nacimiento: string (nullable = true)\n",
      "\n"
     ]
    }
   ],
   "source": [
    "dfcovid.printSchema()"
   ]
  },
  {
   "cell_type": "markdown",
   "metadata": {},
   "source": [
    "Se verifican que hay 474.572 casos"
   ]
  },
  {
   "cell_type": "markdown",
   "metadata": {},
   "source": [
    "## Análisis exploratorio de los datos y creación de features\n",
    "\n",
    "Se analiza la distribucion de cada variable para diseñar los features"
   ]
  },
  {
   "cell_type": "code",
   "execution_count": 7,
   "metadata": {},
   "outputs": [],
   "source": [
    "import seaborn as sns\n",
    "import numpy as np\n",
    "import matplotlib.pyplot as plt\n",
    "from pyspark.sql import functions as F\n"
   ]
  },
  {
   "cell_type": "markdown",
   "metadata": {},
   "source": [
    "### sexo"
   ]
  },
  {
   "cell_type": "code",
   "execution_count": 8,
   "metadata": {},
   "outputs": [
    {
     "name": "stdout",
     "output_type": "stream",
     "text": [
      "+----+------+\n",
      "|sexo| count|\n",
      "+----+------+\n",
      "|  NR|  4097|\n",
      "|   M|233482|\n",
      "|   F|236993|\n",
      "+----+------+\n",
      "\n"
     ]
    }
   ],
   "source": [
    "dfcovid.groupBy('sexo').count().orderBy('count').show()"
   ]
  },
  {
   "cell_type": "code",
   "execution_count": 9,
   "metadata": {},
   "outputs": [
    {
     "name": "stdout",
     "output_type": "stream",
     "text": [
      "+------+------+\n",
      "|genero| count|\n",
      "+------+------+\n",
      "|  null|  4097|\n",
      "|     0|233482|\n",
      "|     1|236993|\n",
      "+------+------+\n",
      "\n"
     ]
    }
   ],
   "source": [
    "dfcovid=dfcovid.withColumn(\"genero\", \n",
    "    F.when((F.col(\"sexo\") == 'NR'), None)\\\n",
    "    .when((F.col(\"sexo\") == 'M'), 0)\\\n",
    "    .when((F.col(\"sexo\") == 'F'), 1)\\\n",
    "    .otherwise(0)\n",
    ")\n",
    "\n",
    "dfcovid.groupBy('genero').count().orderBy('count').show()"
   ]
  },
  {
   "cell_type": "markdown",
   "metadata": {},
   "source": [
    "### edad"
   ]
  },
  {
   "cell_type": "code",
   "execution_count": 10,
   "metadata": {},
   "outputs": [
    {
     "name": "stdout",
     "output_type": "stream",
     "text": [
      "+----+-----+\n",
      "|edad|count|\n",
      "+----+-----+\n",
      "| 120|    1|\n",
      "| 221|    1|\n",
      "| 106|    1|\n",
      "|   0|    2|\n",
      "| 105|    4|\n",
      "| 103|   11|\n",
      "| 102|   16|\n",
      "| 121|   22|\n",
      "| 101|   26|\n",
      "| 100|   36|\n",
      "|  99|   57|\n",
      "|  98|   81|\n",
      "|  97|  103|\n",
      "|null|  113|\n",
      "|  96|  137|\n",
      "|  95|  192|\n",
      "|  94|  245|\n",
      "|  93|  298|\n",
      "|  92|  410|\n",
      "|  91|  420|\n",
      "+----+-----+\n",
      "only showing top 20 rows\n",
      "\n"
     ]
    }
   ],
   "source": [
    "dfcovid.groupBy('edad').count().orderBy('count').show()"
   ]
  },
  {
   "cell_type": "code",
   "execution_count": 11,
   "metadata": {},
   "outputs": [],
   "source": [
    "#pip install -U seaborn"
   ]
  },
  {
   "cell_type": "code",
   "execution_count": 12,
   "metadata": {},
   "outputs": [],
   "source": [
    "#pip install -U scikit-learn"
   ]
  },
  {
   "cell_type": "code",
   "execution_count": 13,
   "metadata": {},
   "outputs": [
    {
     "data": {
      "image/png": "[encoded data removed]",
      "text/plain": [
       "<Figure size 432x288 with 1 Axes>"
      ]
     },
     "metadata": {
      "needs_background": "light"
     },
     "output_type": "display_data"
    }
   ],
   "source": [
    "\n",
    "#grafico un histograma con la edad\n",
    "sns.histplot(x=\"edad\", data=dfcovid.toPandas())\n",
    "plt.show()"
   ]
  },
  {
   "cell_type": "markdown",
   "metadata": {},
   "source": [
    "La variable edad no se modifica, se mantiene como esta\n",
    "\n"
   ]
  },
  {
   "cell_type": "markdown",
   "metadata": {},
   "source": [
    "### Analisis de las fechas"
   ]
  },
  {
   "cell_type": "code",
   "execution_count": 14,
   "metadata": {},
   "outputs": [],
   "source": [
    "# |-- fecha_inicio_sintomas: timestamp (nullable = true)\n",
    "# |-- fecha_apertura: timestamp (nullable = true)\n",
    "# |-- fecha_diagnostico: timestamp (nullable = true)"
   ]
  },
  {
   "cell_type": "markdown",
   "metadata": {},
   "source": [
    "### fecha apertura"
   ]
  },
  {
   "cell_type": "code",
   "execution_count": 15,
   "metadata": {},
   "outputs": [
    {
     "name": "stdout",
     "output_type": "stream",
     "text": [
      "+-------------------+-----+\n",
      "|              fecha|casos|\n",
      "+-------------------+-----+\n",
      "|2020-03-07 00:00:00|    1|\n",
      "|2020-03-10 00:00:00|    1|\n",
      "|2020-03-12 00:00:00|    1|\n",
      "|2020-03-13 00:00:00|    3|\n",
      "|2020-03-15 00:00:00|    2|\n",
      "|2020-03-16 00:00:00|    1|\n",
      "|2020-03-17 00:00:00|    8|\n",
      "|2020-03-18 00:00:00|    6|\n",
      "|2020-03-19 00:00:00|    6|\n",
      "|2020-03-20 00:00:00|    7|\n",
      "|2020-03-21 00:00:00|    5|\n",
      "|2020-03-22 00:00:00|    4|\n",
      "|2020-03-23 00:00:00|    7|\n",
      "|2020-03-24 00:00:00|   12|\n",
      "|2020-03-25 00:00:00|   11|\n",
      "|2020-03-26 00:00:00|   15|\n",
      "|2020-03-27 00:00:00|   11|\n",
      "|2020-03-28 00:00:00|    8|\n",
      "|2020-03-29 00:00:00|   14|\n",
      "|2020-03-30 00:00:00|   12|\n",
      "+-------------------+-----+\n",
      "only showing top 20 rows\n",
      "\n"
     ]
    }
   ],
   "source": [
    "dfcovid.createOrReplaceTempView(\"dfcovid\")\n",
    "\n",
    "dfTemp2= spark.sql(\"\"\"\n",
    "    Select fecha_apertura AS fecha, count(*) AS casos\n",
    "    FROM dfcovid\n",
    "    GROUP BY fecha_apertura\n",
    "    ORDER BY fecha_apertura asc\n",
    "    \"\"\")\n",
    "dfTemp2.show()"
   ]
  },
  {
   "cell_type": "code",
   "execution_count": 16,
   "metadata": {},
   "outputs": [
    {
     "data": {
      "image/png": "[encoded data removed]",
      "text/plain": [
       "<Figure size 432x288 with 1 Axes>"
      ]
     },
     "metadata": {
      "needs_background": "light"
     },
     "output_type": "display_data"
    }
   ],
   "source": [
    "sns.lineplot(x=\"fecha\", y=\"casos\", data=dfTemp2.toPandas())\n",
    "plt.show()"
   ]
  },
  {
   "cell_type": "code",
   "execution_count": 17,
   "metadata": {},
   "outputs": [],
   "source": [
    "dfcovid.createOrReplaceTempView(\"dfcovid\")\n",
    "\n",
    "dfTemp2= spark.sql(\"\"\"\n",
    "    Select fecha_apertura AS fecha, count(*) AS fallecidos\n",
    "    FROM dfcovid\n",
    "    Where fallecido='SI'\n",
    "    GROUP BY fecha_apertura\n",
    "    ORDER BY fecha_apertura asc\n",
    "    \"\"\")\n"
   ]
  },
  {
   "cell_type": "code",
   "execution_count": 18,
   "metadata": {},
   "outputs": [
    {
     "data": {
      "image/png": "[encoded data removed]",
      "text/plain": [
       "<Figure size 432x288 with 1 Axes>"
      ]
     },
     "metadata": {
      "needs_background": "light"
     },
     "output_type": "display_data"
    }
   ],
   "source": [
    "sns.lineplot(x=\"fecha\", y=\"fallecidos\", data=dfTemp2.toPandas())\n",
    "plt.show()\n"
   ]
  },
  {
   "cell_type": "markdown",
   "metadata": {},
   "source": [
    "Se puede ver en el gráfico las distintas \"oleadas\" de fallecidos. "
   ]
  },
  {
   "cell_type": "markdown",
   "metadata": {},
   "source": [
    "### Fecha diagnostico y fecha inicio de síntomas"
   ]
  },
  {
   "cell_type": "markdown",
   "metadata": {},
   "source": [
    "creo una variable nueva con la diferencia en días entre las fechas, pensando que la distancia entre la fecha de síntomas y el diagnóstico (asumiendo que son la cantidad de días que tardó en ir al médico) puede tener una incidencia en el fallecimiento."
   ]
  },
  {
   "cell_type": "code",
   "execution_count": 19,
   "metadata": {},
   "outputs": [],
   "source": [
    "from pyspark.sql.functions import datediff, to_date, lit\n",
    "\n",
    "dfcovid=dfcovid.withColumn(\"dias_diagnostico\", \n",
    "              datediff(\"fecha_diagnostico\",\n",
    "                       \"fecha_inicio_sintomas\"))\n",
    "\n"
   ]
  },
  {
   "cell_type": "code",
   "execution_count": 20,
   "metadata": {},
   "outputs": [
    {
     "name": "stdout",
     "output_type": "stream",
     "text": [
      "+----------------+-----+\n",
      "|dias_diagnostico|count|\n",
      "+----------------+-----+\n",
      "|            -228|    1|\n",
      "|             372|    1|\n",
      "|             264|    1|\n",
      "|             413|    1|\n",
      "|             247|    1|\n",
      "|             323|    1|\n",
      "|            -201|    1|\n",
      "|            -140|    1|\n",
      "|            -243|    1|\n",
      "|             330|    1|\n",
      "|            -200|    1|\n",
      "|            -275|    1|\n",
      "|             210|    1|\n",
      "|            -199|    1|\n",
      "|            -165|    1|\n",
      "|            -249|    1|\n",
      "|            -170|    1|\n",
      "|            -103|    1|\n",
      "|             -66|    1|\n",
      "|            -143|    1|\n",
      "+----------------+-----+\n",
      "only showing top 20 rows\n",
      "\n"
     ]
    }
   ],
   "source": [
    "dfcovid.groupBy('dias_diagnostico').count().orderBy('count').show()"
   ]
  },
  {
   "cell_type": "code",
   "execution_count": 21,
   "metadata": {},
   "outputs": [],
   "source": [
    "from  pyspark.sql.functions import abs\n",
    "#sustituyo con el valor absoluto (habia valores en negativo)\n",
    "dfcovid = dfcovid.withColumn('dias_diagnostico',abs(dfcovid.dias_diagnostico))\n",
    "#dfcovid.show()\n",
    "\n",
    "#dfcovid=dfcovid.withColumn('dias_diagnostico', dfcovid.dias_diagnostico.abs())\n",
    "\n"
   ]
  },
  {
   "cell_type": "code",
   "execution_count": 22,
   "metadata": {},
   "outputs": [
    {
     "name": "stdout",
     "output_type": "stream",
     "text": [
      "+--------------+----+----+---------------------+-------------------+-------------------+-------------+---------------------+-----------------------+--------------------------+-------------------+-----------------+---------+---------------+------+----------------+\n",
      "|id_evento_caso|sexo|edad|fecha_inicio_sintomas|     fecha_apertura|  fecha_diagnostico|sepi_apertura|origen_financiamiento|residencia_provincia_id|residencia_departamento_id|  fecha_internacion|cuidado_intensivo|fallecido|pais_nacimiento|genero|dias_diagnostico|\n",
      "+--------------+----+----+---------------------+-------------------+-------------------+-------------+---------------------+-----------------------+--------------------------+-------------------+-----------------+---------+---------------+------+----------------+\n",
      "|        740861|   F|  75|  2020-03-02 00:00:00|2020-03-07 00:00:00|2020-03-09 00:00:00|           10|              Público|                     22|                       140|               null|               NO|       NO|      Argentina|     1|               7|\n",
      "|        744751|   M|  67|  2020-03-08 00:00:00|2020-03-10 00:00:00|2020-03-11 00:00:00|           11|              Privado|                      2|                        14|2020-03-09 00:00:00|               NO|       NO|      Argentina|     0|               3|\n",
      "+--------------+----+----+---------------------+-------------------+-------------------+-------------+---------------------+-----------------------+--------------------------+-------------------+-----------------+---------+---------------+------+----------------+\n",
      "only showing top 2 rows\n",
      "\n"
     ]
    }
   ],
   "source": [
    "#a los valores mayores a 100 les asigno null\n",
    "dfcovid = dfcovid.withColumn('dias_diagnostico',\n",
    "                             F.when(dfcovid.dias_diagnostico >=100,None)\n",
    "                             .otherwise(dfcovid.dias_diagnostico))\n",
    "dfcovid.show(2)\n",
    "\n"
   ]
  },
  {
   "cell_type": "code",
   "execution_count": 23,
   "metadata": {},
   "outputs": [
    {
     "data": {
      "image/png": "[encoded data removed]",
      "text/plain": [
       "<Figure size 432x288 with 1 Axes>"
      ]
     },
     "metadata": {
      "needs_background": "light"
     },
     "output_type": "display_data"
    }
   ],
   "source": [
    "sns.histplot(x=\"dias_diagnostico\", data=dfcovid.toPandas())\n",
    "plt.show()"
   ]
  },
  {
   "cell_type": "markdown",
   "metadata": {},
   "source": [
    "Se ve en el histograma que en la mayor parte de los casos la cantidad de días es de XXX.\n",
    "Hay valores muy altos que pueden ser erroneos. En este caso se conservan pero podrían eliminarse"
   ]
  },
  {
   "cell_type": "markdown",
   "metadata": {},
   "source": [
    "### SEPI\n",
    "Semana epidemiológica"
   ]
  },
  {
   "cell_type": "code",
   "execution_count": 24,
   "metadata": {},
   "outputs": [
    {
     "name": "stdout",
     "output_type": "stream",
     "text": [
      "+-------------+-----+\n",
      "|sepi_apertura|count|\n",
      "+-------------+-----+\n",
      "|           29| 2888|\n",
      "|           50| 3465|\n",
      "|           30| 3894|\n",
      "|            7| 3976|\n",
      "|           31| 4012|\n",
      "|            9| 4223|\n",
      "|           51| 4312|\n",
      "|           52| 4342|\n",
      "|            8| 4436|\n",
      "|           49| 4542|\n",
      "|           48| 4611|\n",
      "|           10| 4773|\n",
      "|            6| 4883|\n",
      "|           33| 4916|\n",
      "|           32| 5069|\n",
      "|           34| 5126|\n",
      "|           11| 5130|\n",
      "|            5| 5171|\n",
      "|           47| 5718|\n",
      "|            4| 5898|\n",
      "+-------------+-----+\n",
      "only showing top 20 rows\n",
      "\n"
     ]
    }
   ],
   "source": [
    "dfcovid.groupBy('sepi_apertura').count().orderBy('count').show()"
   ]
  },
  {
   "cell_type": "code",
   "execution_count": 25,
   "metadata": {},
   "outputs": [],
   "source": [
    "dfTemp2= spark.sql(\"\"\"\n",
    "    Select sepi_apertura AS sepi, count(*) AS casos\n",
    "    FROM dfcovid\n",
    "    GROUP BY sepi_apertura\n",
    "    ORDER BY sepi_apertura asc\n",
    "    \"\"\")\n"
   ]
  },
  {
   "cell_type": "code",
   "execution_count": 26,
   "metadata": {},
   "outputs": [
    {
     "data": {
      "image/png": "[encoded data removed]",
      "text/plain": [
       "<Figure size 432x288 with 1 Axes>"
      ]
     },
     "metadata": {
      "needs_background": "light"
     },
     "output_type": "display_data"
    }
   ],
   "source": [
    "sns.lineplot(x=\"sepi\", y=\"casos\", data=dfTemp2.toPandas())\n",
    "plt.show()"
   ]
  },
  {
   "cell_type": "markdown",
   "metadata": {},
   "source": [
    "# Tipo de financiamiento\n",
    "\n",
    "lo transformo en una variable dummy (0,1)\n"
   ]
  },
  {
   "cell_type": "code",
   "execution_count": 27,
   "metadata": {},
   "outputs": [
    {
     "name": "stdout",
     "output_type": "stream",
     "text": [
      "+---------------------+------+\n",
      "|origen_financiamiento| count|\n",
      "+---------------------+------+\n",
      "|              Privado|136449|\n",
      "|              Público|338123|\n",
      "+---------------------+------+\n",
      "\n"
     ]
    }
   ],
   "source": [
    "dfcovid.groupBy('origen_financiamiento').count().orderBy('count').show()"
   ]
  },
  {
   "cell_type": "code",
   "execution_count": 28,
   "metadata": {},
   "outputs": [],
   "source": [
    "dfcovid=dfcovid.withColumn(\"financiamiento\", \n",
    "    F.when((F.col(\"origen_financiamiento\") == 'Privado'), 0)\\\n",
    "    .when((F.col(\"origen_financiamiento\") == 'Público'), 1)\\\n",
    "    .otherwise(0)\n",
    ")\n"
   ]
  },
  {
   "cell_type": "code",
   "execution_count": 29,
   "metadata": {},
   "outputs": [
    {
     "name": "stdout",
     "output_type": "stream",
     "text": [
      "+--------------+------+\n",
      "|financiamiento| count|\n",
      "+--------------+------+\n",
      "|             0|136449|\n",
      "|             1|338123|\n",
      "+--------------+------+\n",
      "\n"
     ]
    }
   ],
   "source": [
    "dfcovid.groupBy('financiamiento').count().orderBy('count').show()"
   ]
  },
  {
   "cell_type": "markdown",
   "metadata": {},
   "source": [
    "### variables de domicilio"
   ]
  },
  {
   "cell_type": "markdown",
   "metadata": {},
   "source": [
    "Las siguientes variables pueden servir para identificar el lugar de residencia\n",
    "residencia_provincia_id: integer (nullable = true)\n",
    "residencia_departamento_id: integer (nullable = true)\n",
    "\n",
    "Para este ejercicio no se usarán. Tal vez podrían transformarse en variables dummy por provincia. "
   ]
  },
  {
   "cell_type": "markdown",
   "metadata": {},
   "source": [
    "## Creo una variable migrante=si/no"
   ]
  },
  {
   "cell_type": "code",
   "execution_count": 30,
   "metadata": {},
   "outputs": [],
   "source": [
    "\n",
    "#1 creo una columna que marque migrante/no migrante\n",
    "dfcovid=dfcovid.withColumn(\"migrante\", \n",
    "    F.when((F.col(\"pais_nacimiento\") == 'Argentina'), 0)\\\n",
    "    .when((F.col(\"pais_nacimiento\") == '*sin dato*'), 0)\\\n",
    "    .when((F.col(\"pais_nacimiento\") == ' '), 0)\\\n",
    "    .otherwise(1)\n",
    ")\n"
   ]
  },
  {
   "cell_type": "code",
   "execution_count": 31,
   "metadata": {},
   "outputs": [
    {
     "name": "stdout",
     "output_type": "stream",
     "text": [
      "+--------------+----+----+---------------------+-------------------+-------------------+-------------+---------------------+-----------------------+--------------------------+-------------------+-----------------+---------+---------------+------+----------------+--------------+--------+\n",
      "|id_evento_caso|sexo|edad|fecha_inicio_sintomas|     fecha_apertura|  fecha_diagnostico|sepi_apertura|origen_financiamiento|residencia_provincia_id|residencia_departamento_id|  fecha_internacion|cuidado_intensivo|fallecido|pais_nacimiento|genero|dias_diagnostico|financiamiento|migrante|\n",
      "+--------------+----+----+---------------------+-------------------+-------------------+-------------+---------------------+-----------------------+--------------------------+-------------------+-----------------+---------+---------------+------+----------------+--------------+--------+\n",
      "|        740861|   F|  75|  2020-03-02 00:00:00|2020-03-07 00:00:00|2020-03-09 00:00:00|           10|              Público|                     22|                       140|               null|               NO|       NO|      Argentina|     1|               7|             1|       0|\n",
      "|        744751|   M|  67|  2020-03-08 00:00:00|2020-03-10 00:00:00|2020-03-11 00:00:00|           11|              Privado|                      2|                        14|2020-03-09 00:00:00|               NO|       NO|      Argentina|     0|               3|             0|       0|\n",
      "|        748647|   M|  25|  2020-03-07 00:00:00|2020-03-12 00:00:00|2020-03-15 00:00:00|           11|              Privado|                      2|                         1|2020-03-11 00:00:00|               NO|       NO|      Argentina|     0|               8|             0|       0|\n",
      "|        749791|   F|  21|  2020-03-08 00:00:00|2020-03-13 00:00:00|2020-03-18 00:00:00|           11|              Privado|                      2|                         0|2020-03-13 00:00:00|               NO|       NO|      Argentina|     1|              10|             0|       0|\n",
      "|        750884|   F|  29|  2020-03-13 00:00:00|2020-03-15 00:00:00|2020-03-17 00:00:00|           12|              Privado|                      6|                       805|2020-03-14 00:00:00|               NO|       NO|      Argentina|     1|               4|             0|       0|\n",
      "+--------------+----+----+---------------------+-------------------+-------------------+-------------+---------------------+-----------------------+--------------------------+-------------------+-----------------+---------+---------------+------+----------------+--------------+--------+\n",
      "only showing top 5 rows\n",
      "\n"
     ]
    }
   ],
   "source": [
    "dfcovid.show(5)"
   ]
  },
  {
   "cell_type": "code",
   "execution_count": 32,
   "metadata": {},
   "outputs": [
    {
     "name": "stdout",
     "output_type": "stream",
     "text": [
      "+--------+------+\n",
      "|migrante| count|\n",
      "+--------+------+\n",
      "|       0|158587|\n",
      "|       1|315985|\n",
      "+--------+------+\n",
      "\n"
     ]
    }
   ],
   "source": [
    "dfcovid.groupBy('migrante').count().orderBy('count').show()"
   ]
  },
  {
   "cell_type": "markdown",
   "metadata": {},
   "source": [
    "\n",
    "### Fallecidos\n",
    "Es la variable que se quiere poder clasificar.\n",
    "Las variables fecha de internación y cuidado_intensivo no se utilizan ya que están directamente vinculadas con el fallecimiento."
   ]
  },
  {
   "cell_type": "code",
   "execution_count": 33,
   "metadata": {},
   "outputs": [
    {
     "name": "stdout",
     "output_type": "stream",
     "text": [
      "+---------+------+\n",
      "|fallecido| count|\n",
      "+---------+------+\n",
      "|       SI| 10218|\n",
      "|       NO|464354|\n",
      "+---------+------+\n",
      "\n"
     ]
    }
   ],
   "source": [
    "dfcovid.groupBy('fallecido').count().orderBy('count').show()"
   ]
  },
  {
   "cell_type": "markdown",
   "metadata": {},
   "source": [
    "Creo una variable fallecido 1/0 para usar en la clasificación"
   ]
  },
  {
   "cell_type": "code",
   "execution_count": 34,
   "metadata": {},
   "outputs": [],
   "source": [
    "dfcovid=dfcovid.withColumn(\"fallecido_c\", \n",
    "    F.when((F.col(\"fallecido\") == 'NO'), 0)\\\n",
    "    .when((F.col(\"fallecido\") == 'SI'), 1)\\\n",
    "    .otherwise(0)\n",
    ")"
   ]
  },
  {
   "cell_type": "code",
   "execution_count": 35,
   "metadata": {},
   "outputs": [
    {
     "name": "stdout",
     "output_type": "stream",
     "text": [
      "+-----------+------+\n",
      "|fallecido_c| count|\n",
      "+-----------+------+\n",
      "|          1| 10218|\n",
      "|          0|464354|\n",
      "+-----------+------+\n",
      "\n"
     ]
    }
   ],
   "source": [
    "dfcovid.groupBy('fallecido_c').count().orderBy('count').show()"
   ]
  },
  {
   "cell_type": "code",
   "execution_count": 36,
   "metadata": {},
   "outputs": [
    {
     "name": "stdout",
     "output_type": "stream",
     "text": [
      "root\n",
      " |-- id_evento_caso: integer (nullable = true)\n",
      " |-- sexo: string (nullable = true)\n",
      " |-- edad: integer (nullable = true)\n",
      " |-- fecha_inicio_sintomas: timestamp (nullable = true)\n",
      " |-- fecha_apertura: timestamp (nullable = true)\n",
      " |-- fecha_diagnostico: timestamp (nullable = true)\n",
      " |-- sepi_apertura: integer (nullable = true)\n",
      " |-- origen_financiamiento: string (nullable = true)\n",
      " |-- residencia_provincia_id: integer (nullable = true)\n",
      " |-- residencia_departamento_id: integer (nullable = true)\n",
      " |-- fecha_internacion: timestamp (nullable = true)\n",
      " |-- cuidado_intensivo: string (nullable = true)\n",
      " |-- fallecido: string (nullable = true)\n",
      " |-- pais_nacimiento: string (nullable = true)\n",
      " |-- genero: integer (nullable = true)\n",
      " |-- dias_diagnostico: integer (nullable = true)\n",
      " |-- financiamiento: integer (nullable = false)\n",
      " |-- migrante: integer (nullable = false)\n",
      " |-- fallecido_c: integer (nullable = false)\n",
      "\n"
     ]
    }
   ],
   "source": [
    "dfcovid.printSchema()"
   ]
  },
  {
   "cell_type": "code",
   "execution_count": 37,
   "metadata": {},
   "outputs": [],
   "source": [
    "dfcovid_clasif=dfcovid.select(\"genero\",\"edad\",\"dias_diagnostico\",\n",
    "                              \"sepi_apertura\",\n",
    "                              \"financiamiento\",\"migrante\",\"fallecido_c\")"
   ]
  },
  {
   "cell_type": "code",
   "execution_count": 38,
   "metadata": {},
   "outputs": [
    {
     "name": "stdout",
     "output_type": "stream",
     "text": [
      "root\n",
      " |-- genero: integer (nullable = true)\n",
      " |-- edad: integer (nullable = true)\n",
      " |-- dias_diagnostico: integer (nullable = true)\n",
      " |-- sepi_apertura: integer (nullable = true)\n",
      " |-- financiamiento: integer (nullable = false)\n",
      " |-- migrante: integer (nullable = false)\n",
      " |-- fallecido_c: integer (nullable = false)\n",
      "\n"
     ]
    }
   ],
   "source": [
    "dfcovid_clasif.printSchema()"
   ]
  },
  {
   "cell_type": "code",
   "execution_count": 39,
   "metadata": {},
   "outputs": [
    {
     "name": "stdout",
     "output_type": "stream",
     "text": [
      "+------+----+----------------+-------------+--------------+--------+-----------+\n",
      "|genero|edad|dias_diagnostico|sepi_apertura|financiamiento|migrante|fallecido_c|\n",
      "+------+----+----------------+-------------+--------------+--------+-----------+\n",
      "|     1|  75|               7|           10|             1|       0|          0|\n",
      "|     0|  67|               3|           11|             0|       0|          0|\n",
      "|     0|  25|               8|           11|             0|       0|          0|\n",
      "|     1|  21|              10|           11|             0|       0|          0|\n",
      "|     1|  29|               4|           12|             0|       0|          0|\n",
      "+------+----+----------------+-------------+--------------+--------+-----------+\n",
      "only showing top 5 rows\n",
      "\n"
     ]
    }
   ],
   "source": [
    "dfcovid_clasif.show(5)"
   ]
  },
  {
   "cell_type": "markdown",
   "metadata": {},
   "source": [
    "se corrigen y completan los datos con valores nulos para que no de error el clasificador"
   ]
  },
  {
   "cell_type": "code",
   "execution_count": 40,
   "metadata": {},
   "outputs": [],
   "source": [
    "def _get_typed_cols(df, col_type='cat'):\n",
    "    assert col_type in ('cat', 'num')\n",
    "    dtypes = ('int', 'double') if col_type == 'num' else ('string')\n",
    "    typed_cols = [c for c,dtype in df.dtypes if dtype.startswith(dtypes) \n",
    "                  and c not in PROTECTED_COLS]\n",
    "    return typed_cols"
   ]
  },
  {
   "cell_type": "code",
   "execution_count": 41,
   "metadata": {},
   "outputs": [],
   "source": [
    "def _fill_nulls(df):\n",
    "    for t in ['num', 'cat']:\n",
    "        cols = _get_typed_cols(df, col_type=t)\n",
    "        for c in cols:\n",
    "            if t == 'num':\n",
    "                median_val = df.approxQuantile(c, [0.5], 0)[0]\n",
    "                df = df.fillna(median_val, subset=[c])\n",
    "            else:\n",
    "                val_counts = df.filter(f.col(c).isNotNull()).select(c).groupBy(c).count().orderBy(f.desc('count'))\n",
    "                common_val = val_counts.select(c).first()[0]\n",
    "                df = df.fillna(common_val, subset=[c])\n",
    "    return df"
   ]
  },
  {
   "cell_type": "code",
   "execution_count": 42,
   "metadata": {},
   "outputs": [],
   "source": [
    "##se llenan los vacios con media para evitar que de error\n",
    "\n",
    "PROTECTED_COLS = ['fallecido_c']\n",
    "dfcovid_clasif = _fill_nulls(dfcovid_clasif)"
   ]
  },
  {
   "cell_type": "markdown",
   "metadata": {},
   "source": [
    "Guardo los datos en formato parquet para que queden las variables que transformé."
   ]
  },
  {
   "cell_type": "code",
   "execution_count": 43,
   "metadata": {},
   "outputs": [],
   "source": [
    "#dfcovid_clasif.write.parquet(\"/dataset/parquetv4/covid_clasif2.parquet\") "
   ]
  },
  {
   "cell_type": "markdown",
   "metadata": {},
   "source": [
    "   # Pruebas de clasificación con distintas técnicas\n",
    "   \n",
    "   En esta sección se van a aplicar distintas técnicas de clasificación.\n",
    "   En primer lugar se preparar los datos y se separa en "
   ]
  },
  {
   "cell_type": "code",
   "execution_count": 113,
   "metadata": {},
   "outputs": [],
   "source": [
    "### en caso que se retome desde aqui se puede levantar directamente el parquet"
   ]
  },
  {
   "cell_type": "code",
   "execution_count": 3,
   "metadata": {},
   "outputs": [],
   "source": [
    "dfclasif=spark.read.parquet(\"/dataset/parquetv4/covid_clasif2.parquet\") \n",
    "\n",
    "#dfclasif=dfcovid_clasif\n"
   ]
  },
  {
   "cell_type": "code",
   "execution_count": 4,
   "metadata": {},
   "outputs": [
    {
     "name": "stdout",
     "output_type": "stream",
     "text": [
      "+------+----+----------------+-------------+--------------+--------+-----------+\n",
      "|genero|edad|dias_diagnostico|sepi_apertura|financiamiento|migrante|fallecido_c|\n",
      "+------+----+----------------+-------------+--------------+--------+-----------+\n",
      "|     1|  75|               7|           10|             1|       0|          0|\n",
      "|     0|  67|               3|           11|             0|       0|          0|\n",
      "|     0|  25|               8|           11|             0|       0|          0|\n",
      "|     1|  21|              10|           11|             0|       0|          0|\n",
      "|     1|  29|               4|           12|             0|       0|          0|\n",
      "|     1|  24|               5|           12|             0|       0|          0|\n",
      "|     0|  37|               5|           12|             1|       0|          0|\n",
      "|     0|  29|               4|           12|             1|       0|          0|\n",
      "|     0|  78|               6|           12|             0|       0|          0|\n",
      "|     0|  34|               6|           12|             1|       0|          0|\n",
      "|     1|   4|               5|           12|             1|       0|          0|\n",
      "|     0|  58|               4|           12|             0|       0|          0|\n",
      "|     1|  57|               6|           12|             0|       0|          0|\n",
      "|     0|  35|               5|           12|             1|       0|          0|\n",
      "|     1|  29|               5|           12|             0|       0|          0|\n",
      "|     0|  53|               4|           12|             0|       0|          0|\n",
      "|     0|  55|               5|           12|             1|       0|          0|\n",
      "|     0|  36|               9|           12|             0|       0|          0|\n",
      "|     0|  22|              13|           12|             1|       1|          0|\n",
      "|     0|  60|               9|           12|             0|       0|          0|\n",
      "+------+----+----------------+-------------+--------------+--------+-----------+\n",
      "only showing top 20 rows\n",
      "\n"
     ]
    }
   ],
   "source": [
    "dfclasif.show()"
   ]
  },
  {
   "cell_type": "code",
   "execution_count": null,
   "metadata": {},
   "outputs": [],
   "source": []
  },
  {
   "cell_type": "markdown",
   "metadata": {},
   "source": [
    "### regresion logistica"
   ]
  },
  {
   "cell_type": "markdown",
   "metadata": {},
   "source": [
    "En esta primera parte se realiza una regresion logística, para ello se preparara el vector de features y el \"label\""
   ]
  },
  {
   "cell_type": "code",
   "execution_count": 5,
   "metadata": {},
   "outputs": [],
   "source": [
    "# Armar columna de features\n",
    "from pyspark.ml.feature import VectorAssembler\n",
    "\n",
    "\n",
    "assembler = VectorAssembler(inputCols=['genero','edad','dias_diagnostico','sepi_apertura','financiamiento','migrante'],\n",
    "    outputCol=\"features\")\n",
    "dfclasif = assembler.transform(dfclasif)\n",
    "#dfcovid_clasif.select(['features']).toPandas().head(5)\n",
    "\n",
    "\n",
    "\n"
   ]
  },
  {
   "cell_type": "code",
   "execution_count": 6,
   "metadata": {},
   "outputs": [
    {
     "name": "stdout",
     "output_type": "stream",
     "text": [
      "+------+----+----------------+-------------+--------------+--------+-----------+--------------------+\n",
      "|genero|edad|dias_diagnostico|sepi_apertura|financiamiento|migrante|fallecido_c|            features|\n",
      "+------+----+----------------+-------------+--------------+--------+-----------+--------------------+\n",
      "|     1|  75|               7|           10|             1|       0|          0|[1.0,75.0,7.0,10....|\n",
      "|     0|  67|               3|           11|             0|       0|          0|[0.0,67.0,3.0,11....|\n",
      "|     0|  25|               8|           11|             0|       0|          0|[0.0,25.0,8.0,11....|\n",
      "|     1|  21|              10|           11|             0|       0|          0|[1.0,21.0,10.0,11...|\n",
      "|     1|  29|               4|           12|             0|       0|          0|[1.0,29.0,4.0,12....|\n",
      "+------+----+----------------+-------------+--------------+--------+-----------+--------------------+\n",
      "only showing top 5 rows\n",
      "\n"
     ]
    }
   ],
   "source": [
    "dfclasif.show(5)"
   ]
  },
  {
   "cell_type": "code",
   "execution_count": 13,
   "metadata": {},
   "outputs": [
    {
     "name": "stdout",
     "output_type": "stream",
     "text": [
      "+--------------------+\n",
      "|            features|\n",
      "+--------------------+\n",
      "|[1.0,75.0,7.0,10....|\n",
      "|[0.0,67.0,3.0,11....|\n",
      "|[0.0,25.0,8.0,11....|\n",
      "|[1.0,21.0,10.0,11...|\n",
      "|[1.0,29.0,4.0,12....|\n",
      "|[1.0,24.0,5.0,12....|\n",
      "|[0.0,37.0,5.0,12....|\n",
      "|[0.0,29.0,4.0,12....|\n",
      "|[0.0,78.0,6.0,12....|\n",
      "|[0.0,34.0,6.0,12....|\n",
      "|[1.0,4.0,5.0,12.0...|\n",
      "|[0.0,58.0,4.0,12....|\n",
      "|[1.0,57.0,6.0,12....|\n",
      "|[0.0,35.0,5.0,12....|\n",
      "|[1.0,29.0,5.0,12....|\n",
      "|[0.0,53.0,4.0,12....|\n",
      "|[0.0,55.0,5.0,12....|\n",
      "|[0.0,36.0,9.0,12....|\n",
      "|[0.0,22.0,13.0,12...|\n",
      "|[0.0,60.0,9.0,12....|\n",
      "+--------------------+\n",
      "only showing top 20 rows\n",
      "\n"
     ]
    }
   ],
   "source": [
    "dfclasif.select('features').show()"
   ]
  },
  {
   "cell_type": "code",
   "execution_count": 7,
   "metadata": {},
   "outputs": [],
   "source": [
    "##creo el conjunto de entrenamiento y el de test\n",
    "\n",
    "# Train/test split\n",
    "train_df, test_df = dfclasif.randomSplit([0.7,0.3],seed=7147)"
   ]
  },
  {
   "cell_type": "code",
   "execution_count": 8,
   "metadata": {},
   "outputs": [
    {
     "data": {
      "text/plain": [
       "331661"
      ]
     },
     "execution_count": 8,
     "metadata": {},
     "output_type": "execute_result"
    }
   ],
   "source": [
    "train_df.count()"
   ]
  },
  {
   "cell_type": "code",
   "execution_count": 9,
   "metadata": {},
   "outputs": [
    {
     "data": {
      "text/plain": [
       "142911"
      ]
     },
     "execution_count": 9,
     "metadata": {},
     "output_type": "execute_result"
    }
   ],
   "source": [
    "test_df.count()"
   ]
  },
  {
   "cell_type": "code",
   "execution_count": 10,
   "metadata": {},
   "outputs": [],
   "source": [
    "from pyspark.ml.classification import LogisticRegression\n",
    "#entreno mi modelo\n",
    "lr = LogisticRegression(labelCol='fallecido_c', featuresCol='features')\n",
    "lrm = lr.fit(train_df)"
   ]
  },
  {
   "cell_type": "code",
   "execution_count": 11,
   "metadata": {},
   "outputs": [
    {
     "name": "stdout",
     "output_type": "stream",
     "text": [
      " coefficients: DenseMatrix([[-0.62390962,  0.09824104,  0.02571754, -0.00963301, -0.15260109,\n",
      "              -0.45848769]])\n",
      " intercepts: [-8.438826472773119]\n"
     ]
    }
   ],
   "source": [
    "# Print the coefficients and intercepts for logistic regression \n",
    "print(\" coefficients: \" + str(lrm.coefficientMatrix))\n",
    "print(\" intercepts: \" + str(lrm.interceptVector))"
   ]
  },
  {
   "cell_type": "code",
   "execution_count": 12,
   "metadata": {},
   "outputs": [
    {
     "name": "stdout",
     "output_type": "stream",
     "text": [
      " accuracy: 0.9781342997820063\n",
      " areaUnderROC: 0.9128839575129182\n"
     ]
    }
   ],
   "source": [
    "# Metricas de evaluacion (insample)\n",
    "\n",
    "print(\" accuracy: \" + str(lrm.summary.accuracy))\n",
    "print(\" areaUnderROC: \" + str(lrm.summary.areaUnderROC))\n"
   ]
  },
  {
   "cell_type": "markdown",
   "metadata": {},
   "source": [
    "Se obtiene un buen performance del clasificador:\n",
    "\n",
    " accuracy: 0.9781342997820063\n",
    " areaUnderROC: 0.9128839575129182\n",
    " \n",
    " "
   ]
  },
  {
   "cell_type": "code",
   "execution_count": 17,
   "metadata": {},
   "outputs": [
    {
     "name": "stdout",
     "output_type": "stream",
     "text": [
      "False Positive Rate: 0.9415708544093597\n",
      "True Positive Rate: 0.9781342997820064\n",
      "F-measure: 0.9690450047786354\n",
      "Precision: 0.9674155211801008\n",
      "Recall: 0.9781342997820064\n"
     ]
    }
   ],
   "source": [
    "falsePositiveRate = lrm.summary.weightedFalsePositiveRate\n",
    "truePositiveRate = lrm.summary.weightedTruePositiveRate\n",
    "fMeasure = lrm.summary.weightedFMeasure()\n",
    "precision = lrm.summary.weightedPrecision\n",
    "recall = lrm.summary.weightedRecall\n",
    "print(\"False Positive Rate: %s\\nTrue Positive Rate: %s\\nF-measure: %s\\nPrecision: %s\\nRecall: %s\"\n",
    "      % (falsePositiveRate, truePositiveRate, fMeasure, precision, recall))"
   ]
  },
  {
   "cell_type": "code",
   "execution_count": 21,
   "metadata": {},
   "outputs": [
    {
     "data": {
      "image/png": "[encoded data removed]",
      "text/plain": [
       "<Figure size 432x288 with 1 Axes>"
      ]
     },
     "metadata": {
      "needs_background": "light"
     },
     "output_type": "display_data"
    }
   ],
   "source": [
    "import matplotlib.pyplot as plt\n",
    "import numpy as np\n",
    "beta = np.sort(lrm.coefficients)\n",
    "plt.plot(beta)\n",
    "plt.ylabel('Beta Coefficients')\n",
    "plt.show()"
   ]
  },
  {
   "cell_type": "code",
   "execution_count": 22,
   "metadata": {},
   "outputs": [
    {
     "data": {
      "image/png": "[encoded data removed]",
      "text/plain": [
       "<Figure size 432x288 with 1 Axes>"
      ]
     },
     "metadata": {
      "needs_background": "light"
     },
     "output_type": "display_data"
    },
    {
     "name": "stdout",
     "output_type": "stream",
     "text": [
      "Training set areaUnderROC: 0.9128839575129182\n"
     ]
    }
   ],
   "source": [
    "trainingSummary = lrm.summary\n",
    "roc = trainingSummary.roc.toPandas()\n",
    "plt.plot(roc['FPR'],roc['TPR'])\n",
    "plt.ylabel('False Positive Rate')\n",
    "plt.xlabel('True Positive Rate')\n",
    "plt.title('ROC Curve')\n",
    "plt.show()\n",
    "print('Training set areaUnderROC: ' + str(trainingSummary.areaUnderROC))"
   ]
  },
  {
   "cell_type": "code",
   "execution_count": 23,
   "metadata": {},
   "outputs": [
    {
     "data": {
      "image/png": "[encoded data removed]",
      "text/plain": [
       "<Figure size 432x288 with 1 Axes>"
      ]
     },
     "metadata": {
      "needs_background": "light"
     },
     "output_type": "display_data"
    }
   ],
   "source": [
    "pr = trainingSummary.pr.toPandas()\n",
    "plt.plot(pr['recall'],pr['precision'])\n",
    "plt.ylabel('Precision')\n",
    "plt.xlabel('Recall')\n",
    "plt.show()"
   ]
  },
  {
   "cell_type": "code",
   "execution_count": 19,
   "metadata": {},
   "outputs": [
    {
     "name": "stdout",
     "output_type": "stream",
     "text": [
      "+------+----+----------------+-------------+--------------+--------+-----------+--------------------+--------------------+--------------------+----------+\n",
      "|genero|edad|dias_diagnostico|sepi_apertura|financiamiento|migrante|fallecido_c|            features|       rawPrediction|         probability|prediction|\n",
      "+------+----+----------------+-------------+--------------+--------+-----------+--------------------+--------------------+--------------------+----------+\n",
      "|     0|   1|               0|            3|             1|       1|          0|[0.0,1.0,0.0,3.0,...|[8.98057324055922...|[0.99987418513580...|       0.0|\n",
      "|     0|   1|               0|           19|             0|       1|          0|[0.0,1.0,0.0,19.0...|[8.98210027443458...|[0.99987437708863...|       0.0|\n",
      "|     0|   1|               0|           19|             1|       1|          0|[0.0,1.0,0.0,19.0...|[9.13470136914081...|[0.99989215431774...|       0.0|\n",
      "|     0|   1|               0|           26|             1|       1|          0|[0.0,1.0,0.0,26.0...|[9.20213242539526...|[0.99989918599207...|       0.0|\n",
      "|     0|   1|               0|           45|             0|       0|          0|(6,[1,3],[1.0,45.0])|[8.77407079674388...|[0.99984533135095...|       0.0|\n",
      "|     0|   1|               1|           22|             1|       1|          0|[0.0,1.0,1.0,22.0...|[9.13788284893961...|[0.99989249684455...|       0.0|\n",
      "|     0|   1|               1|           24|             1|       1|          0|[0.0,1.0,1.0,24.0...|[9.15714886501231...|[0.99989454796179...|       0.0|\n",
      "|     0|   1|               1|           25|             1|       0|          0|[0.0,1.0,1.0,25.0...|[8.70829418641288...|[0.99983481745835...|       0.0|\n",
      "|     0|   1|               2|            1|             1|       1|          0|[0.0,1.0,2.0,1.0,...|[8.90987213586604...|[0.99986496913497...|       0.0|\n",
      "|     0|   1|               2|           10|             0|       1|          0|[0.0,1.0,2.0,10.0...|[8.84396811348695...|[0.99985577159256...|       0.0|\n",
      "|     0|   1|               2|           18|             1|       1|          0|[0.0,1.0,2.0,18.0...|[9.07363327248397...|[0.99988536391382...|       0.0|\n",
      "|     0|   1|               2|           21|             0|       1|          0|[0.0,1.0,2.0,21.0...|[8.94993120188679...|[0.99987027074583...|       0.0|\n",
      "|     0|   1|               2|           22|             1|       1|          0|[0.0,1.0,2.0,22.0...|[9.11216530462937...|[0.99988969657870...|       0.0|\n",
      "|     0|   1|               2|           23|             1|       0|          0|[0.0,1.0,2.0,23.0...|[8.66331062602994...|[0.99982721861314...|       0.0|\n",
      "|     0|   1|               2|           23|             1|       1|          0|[0.0,1.0,2.0,23.0...|[9.12179831266572...|[0.99989075391552...|       0.0|\n",
      "|     0|   1|               2|           25|             1|       0|          0|[0.0,1.0,2.0,25.0...|[8.68257664210264...|[0.99983051500183...|       0.0|\n",
      "|     0|   1|               2|           26|             1|       1|          0|[0.0,1.0,2.0,26.0...|[9.15069733677477...|[0.99989386550813...|       0.0|\n",
      "|     0|   1|               2|           27|             1|       0|          0|[0.0,1.0,2.0,27.0...|[8.70184265817534...|[0.99983374851123...|       0.0|\n",
      "|     0|   1|               2|           42|             0|       0|          0|[0.0,1.0,2.0,42.0...|[8.69373668401434...|[0.99983239563103...|       0.0|\n",
      "|     0|   1|               2|           49|             1|       0|          0|[0.0,1.0,2.0,49.0...|[8.91376883497502...|[0.99986549421514...|       0.0|\n",
      "+------+----+----------------+-------------+--------------+--------+-----------+--------------------+--------------------+--------------------+----------+\n",
      "only showing top 20 rows\n",
      "\n"
     ]
    }
   ],
   "source": [
    "pred_df = lrm.transform(test_df)\n",
    "pred_df.show(2)"
   ]
  },
  {
   "cell_type": "code",
   "execution_count": 48,
   "metadata": {},
   "outputs": [
    {
     "name": "stdout",
     "output_type": "stream",
     "text": [
      "+-----------+----------+------+\n",
      "|fallecido_c|prediction| count|\n",
      "+-----------+----------+------+\n",
      "|          1|       1.0|   117|\n",
      "|          0|       0.0|139719|\n",
      "|          1|       0.0|  2927|\n",
      "|          0|       1.0|   148|\n",
      "+-----------+----------+------+\n",
      "\n"
     ]
    }
   ],
   "source": [
    "pred_df.groupBy('fallecido_c', 'prediction').count().show()"
   ]
  },
  {
   "cell_type": "markdown",
   "metadata": {},
   "source": [
    "Se puede ver que a pesar de que da un buen performance, solo puede clasificar 117 fallecidos correctamente. Los grupos estan muy desblanaceados y además no son variable suficientemente explicativas para poder predecir el fallecimiento."
   ]
  },
  {
   "cell_type": "code",
   "execution_count": 20,
   "metadata": {},
   "outputs": [
    {
     "data": {
      "text/plain": [
       "0.9105660784633718"
      ]
     },
     "execution_count": 20,
     "metadata": {},
     "output_type": "execute_result"
    }
   ],
   "source": [
    "from pyspark.ml.evaluation import BinaryClassificationEvaluator\n",
    "\n",
    "evaluator = BinaryClassificationEvaluator(labelCol='fallecido_c')\n",
    "evaluator.evaluate(pred_df)"
   ]
  },
  {
   "cell_type": "markdown",
   "metadata": {},
   "source": [
    "## Decision Tree Classifier"
   ]
  },
  {
   "cell_type": "code",
   "execution_count": 26,
   "metadata": {},
   "outputs": [],
   "source": [
    "from pyspark.ml.classification import DecisionTreeClassifier\n",
    "dt = DecisionTreeClassifier(featuresCol = 'features', labelCol = 'fallecido_c')\n",
    "dtModel = dt.fit(train_df)\n"
   ]
  },
  {
   "cell_type": "code",
   "execution_count": 27,
   "metadata": {},
   "outputs": [
    {
     "name": "stdout",
     "output_type": "stream",
     "text": [
      "+------+----+----------------+-------------+--------------+--------+-----------+--------------------+-----------------+--------------------+----------+\n",
      "|genero|edad|dias_diagnostico|sepi_apertura|financiamiento|migrante|fallecido_c|            features|    rawPrediction|         probability|prediction|\n",
      "+------+----+----------------+-------------+--------------+--------+-----------+--------------------+-----------------+--------------------+----------+\n",
      "|     0|   1|               0|            3|             1|       1|          0|[0.0,1.0,0.0,3.0,...|[307454.0,3101.0]|[0.99001465118900...|       0.0|\n",
      "|     0|   1|               0|           19|             0|       1|          0|[0.0,1.0,0.0,19.0...|[307454.0,3101.0]|[0.99001465118900...|       0.0|\n",
      "|     0|   1|               0|           19|             1|       1|          0|[0.0,1.0,0.0,19.0...|[307454.0,3101.0]|[0.99001465118900...|       0.0|\n",
      "|     0|   1|               0|           26|             1|       1|          0|[0.0,1.0,0.0,26.0...|[307454.0,3101.0]|[0.99001465118900...|       0.0|\n",
      "|     0|   1|               0|           45|             0|       0|          0|(6,[1,3],[1.0,45.0])|[307454.0,3101.0]|[0.99001465118900...|       0.0|\n",
      "|     0|   1|               1|           22|             1|       1|          0|[0.0,1.0,1.0,22.0...|[307454.0,3101.0]|[0.99001465118900...|       0.0|\n",
      "|     0|   1|               1|           24|             1|       1|          0|[0.0,1.0,1.0,24.0...|[307454.0,3101.0]|[0.99001465118900...|       0.0|\n",
      "|     0|   1|               1|           25|             1|       0|          0|[0.0,1.0,1.0,25.0...|[307454.0,3101.0]|[0.99001465118900...|       0.0|\n",
      "|     0|   1|               2|            1|             1|       1|          0|[0.0,1.0,2.0,1.0,...|[307454.0,3101.0]|[0.99001465118900...|       0.0|\n",
      "|     0|   1|               2|           10|             0|       1|          0|[0.0,1.0,2.0,10.0...|[307454.0,3101.0]|[0.99001465118900...|       0.0|\n",
      "+------+----+----------------+-------------+--------------+--------+-----------+--------------------+-----------------+--------------------+----------+\n",
      "only showing top 10 rows\n",
      "\n"
     ]
    }
   ],
   "source": [
    "predictions = dtModel.transform(test_df)\n",
    "#predictions.show(10)"
   ]
  },
  {
   "cell_type": "code",
   "execution_count": 30,
   "metadata": {},
   "outputs": [
    {
     "name": "stdout",
     "output_type": "stream",
     "text": [
      "+----------+--------------------+-----------+--------------------+\n",
      "|prediction|         probability|fallecido_c|            features|\n",
      "+----------+--------------------+-----------+--------------------+\n",
      "|       0.0|[0.99001465118900...|          0|[0.0,1.0,0.0,3.0,...|\n",
      "|       0.0|[0.99001465118900...|          0|[0.0,1.0,0.0,19.0...|\n",
      "|       0.0|[0.99001465118900...|          0|[0.0,1.0,0.0,19.0...|\n",
      "|       0.0|[0.99001465118900...|          0|[0.0,1.0,0.0,26.0...|\n",
      "|       0.0|[0.99001465118900...|          0|(6,[1,3],[1.0,45.0])|\n",
      "+----------+--------------------+-----------+--------------------+\n",
      "only showing top 5 rows\n",
      "\n"
     ]
    }
   ],
   "source": [
    "# Select example rows to display.\n",
    "predictions.select(\"prediction\",\"probability\",\"fallecido_c\", \"features\").show(5)\n",
    "\n"
   ]
  },
  {
   "cell_type": "code",
   "execution_count": 33,
   "metadata": {},
   "outputs": [
    {
     "name": "stdout",
     "output_type": "stream",
     "text": [
      "+----------+--------------------+-----------+--------------------+\n",
      "|prediction|         probability|fallecido_c|            features|\n",
      "+----------+--------------------+-----------+--------------------+\n",
      "|       0.0|[0.99001465118900...|          1|[0.0,14.0,2.0,22....|\n",
      "|       0.0|[0.99001465118900...|          1|[0.0,15.0,4.0,23....|\n",
      "|       0.0|[0.99001465118900...|          1|[0.0,15.0,5.0,53....|\n",
      "|       0.0|[0.99001465118900...|          1|[0.0,19.0,4.0,14....|\n",
      "|       0.0|[0.99001465118900...|          1|[0.0,24.0,1.0,15....|\n",
      "|       0.0|[0.99001465118900...|          1|[0.0,24.0,3.0,42....|\n",
      "|       0.0|[0.99001465118900...|          1|[0.0,27.0,4.0,38....|\n",
      "|       0.0|[0.99001465118900...|          1|[0.0,29.0,4.0,21....|\n",
      "|       0.0|[0.99001465118900...|          1|[0.0,30.0,0.0,43....|\n",
      "|       0.0|[0.99001465118900...|          1|[0.0,30.0,0.0,50....|\n",
      "|       0.0|[0.99001465118900...|          1|[0.0,30.0,2.0,44....|\n",
      "|       0.0|[0.99001465118900...|          1|[0.0,31.0,0.0,18....|\n",
      "|       0.0|[0.99001465118900...|          1|[0.0,32.0,25.0,9....|\n",
      "|       0.0|[0.99001465118900...|          1|[0.0,33.0,1.0,18....|\n",
      "|       0.0|[0.99001465118900...|          1|[0.0,33.0,4.0,15....|\n",
      "|       0.0|[0.99001465118900...|          1|[0.0,33.0,9.0,20....|\n",
      "|       0.0|[0.99001465118900...|          1|[0.0,33.0,13.0,3....|\n",
      "|       0.0|[0.99001465118900...|          1|[0.0,34.0,8.0,42....|\n",
      "|       0.0|[0.99001465118900...|          1|[0.0,37.0,2.0,4.0...|\n",
      "|       0.0|[0.99001465118900...|          1|[0.0,38.0,4.0,16....|\n",
      "+----------+--------------------+-----------+--------------------+\n",
      "only showing top 20 rows\n",
      "\n"
     ]
    }
   ],
   "source": [
    "predictions.select(\"prediction\",\"probability\",\"fallecido_c\", \"features\").filter('fallecido_c = 1').show()"
   ]
  },
  {
   "cell_type": "markdown",
   "metadata": {},
   "source": [
    "Como se puede ver, en el siguiente cuador solo clasifica bien 156 casos de fallecidos mientras que 2888 fallecidos no los clasifica correctamente.\n",
    "\n",
    "Los grupos estan muy desbalanceados y además las variables no son suficientes para clasificar estos datos. (claramente)"
   ]
  },
  {
   "cell_type": "code",
   "execution_count": 36,
   "metadata": {},
   "outputs": [
    {
     "name": "stdout",
     "output_type": "stream",
     "text": [
      "+-----------+----------+------+\n",
      "|fallecido_c|prediction| count|\n",
      "+-----------+----------+------+\n",
      "|          1|       1.0|   156|\n",
      "|          0|       0.0|139700|\n",
      "|          1|       0.0|  2888|\n",
      "|          0|       1.0|   167|\n",
      "+-----------+----------+------+\n",
      "\n"
     ]
    }
   ],
   "source": [
    "predictions.groupBy('fallecido_c', 'prediction').count().show()"
   ]
  },
  {
   "cell_type": "code",
   "execution_count": 47,
   "metadata": {},
   "outputs": [
    {
     "data": {
      "text/plain": [
       "0.24184009984067176"
      ]
     },
     "execution_count": 47,
     "metadata": {},
     "output_type": "execute_result"
    }
   ],
   "source": [
    "from pyspark.ml.evaluation import BinaryClassificationEvaluator\n",
    "\n",
    "evaluator = BinaryClassificationEvaluator(labelCol='fallecido_c')\n",
    "\n",
    "evaluator.evaluate(predictions)\n",
    "# summary only\n",
    "#print(dtModel)\n",
    "\n"
   ]
  },
  {
   "cell_type": "code",
   "execution_count": null,
   "metadata": {},
   "outputs": [],
   "source": [
    "spark.stop()"
   ]
  },
  {
   "cell_type": "code",
   "execution_count": null,
   "metadata": {},
   "outputs": [],
   "source": []
  },
  {
   "cell_type": "code",
   "execution_count": null,
   "metadata": {},
   "outputs": [],
   "source": []
  },
  {
   "cell_type": "code",
   "execution_count": 131,
   "metadata": {},
   "outputs": [],
   "source": []
  },
  {
   "cell_type": "code",
   "execution_count": null,
   "metadata": {},
   "outputs": [],
   "source": []
  }
 ],
 "metadata": {
  "kernelspec": {
   "display_name": "Python 3",
   "language": "python",
   "name": "python3"
  },
  "language_info": {
   "codemirror_mode": {
    "name": "ipython",
    "version": 3
   },
   "file_extension": ".py",
   "mimetype": "text/x-python",
   "name": "python",
   "nbconvert_exporter": "python",
   "pygments_lexer": "ipython3",
   "version": "3.7.3"
  }
 },
 "nbformat": 4,
 "nbformat_minor": 4
}
